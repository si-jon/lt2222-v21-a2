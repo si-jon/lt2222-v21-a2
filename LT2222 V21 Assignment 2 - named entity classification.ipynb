{
 "cells": [
  {
   "cell_type": "markdown",
   "metadata": {},
   "source": [
    "## Introduction\n",
    "\n",
    "In this assignment, you are going to build a classifier for named entities from the Groningen Meaning Bank corpus.  Named entity recognition (NER) takes noun phrases from a text and identifies whether they are persons, organizations, and so on.  You will be using the Groningen Meaning Bank named entity corpus available on mltgpu at `/scratch/lt2222-v21-resources/GMB_dataset.txt`.  In this version of the task, you will assume we know *that* something is a named entity, and instead use multi-class classification to identify its type.  So you will be doing named entity classification but *not* recognition.\n",
    "\n",
    "The data looks like this: \n",
    "\n",
    "```\n",
    "3996    182.0   Nicole  NNP     B-per\n",
    "3997    182.0   Ritchie NNP     I-per\n",
    "3998    182.0   is      VBZ     O\n",
    "3999    182.0   pregnant        JJ      O\n",
    "4000    182.0   .       .       O\n",
    "4001    183.0   Speaking        VBG     O\n",
    "4002    183.0   to      TO      O\n",
    "4003    183.0   ABC     NNP     B-org\n",
    "4004    183.0   News    NNP     I-org\n",
    "4005    183.0   interviewer     NN      O\n",
    "4006    183.0   Dianne  NNP     B-per\n",
    "4007    183.0   Sawyer  NNP     I-per\n",
    "4008    183.0   ,       ,       O\n",
    "4009    183.0   the     DT      O\n",
    "4010    183.0   25-year-old     JJ      O\n",
    "4011    183.0   co-star NN      O\n",
    "4012    183.0   of      IN      O\n",
    "4013    183.0   TV      NN      O\n",
    "4014    183.0   's      POS     O\n",
    "4015    183.0   The     DT      B-art\n",
    "4016    183.0   Simple  NNP     I-art\n",
    "4017    183.0   Life    NNP     I-art\n",
    "4018    183.0   said    VBD     O\n",
    "4019    183.0   she     PRP     O\n",
    "4020    183.0   is      VBZ     O\n",
    "4021    183.0   almost  RB      O\n",
    "4022    183.0   four    CD      O\n",
    "4023    183.0   months  NNS     O\n",
    "4024    183.0   along   IN      O\n",
    "4025    183.0   in      IN      O\n",
    "4026    183.0   her     PRP$    O\n",
    "4027    183.0   pregnancy       NN      O\n",
    "4028    183.0   .       .       O\n",
    "```\n",
    "\n",
    "The first column is the line number.  The second column is a sentence number (for some reason given as a float; ignore it).  The third column is the word.  The fourth column is a part of speech (POS) tag in Penn Treebank format.  The last column contains the named entity annotation. \n",
    "\n",
    "The annotation works like this.  Every `O` just means that the row does not represent a named entity.  `B-xyx` means the first word in a named entity with type `xyx`. `I-xyz` means the second and later words of an `xyz` entity, if there are any.  That means that every time there's a `B` or an `I`, there's a named entity.  \n",
    "\n",
    "The entity types in the corpus are `art`,\n",
    "`eve`,\n",
    "`geo`,\n",
    "`gpe`,\n",
    "`nat`,\n",
    "`org`,\n",
    "`per`,\n",
    "and `tim`\n",
    "\n",
    "Your task is the following.\n",
    "1. To preprocess the text (lowercase and lemmatize; punctuation can be preserved as it gets its own rows).\n",
    "2. To create instances from every from every identified named entity in the text with the type of the NE as the class, and a surrounding context of five words on either side as the features.  \n",
    "3. To generate vectors and split the instances into training and testing datasets at random.\n",
    "4. To train a support vector machine (via `sklearn.svm.LinearSVC`) for classifying the NERs.\n",
    "5. To evaluate the performance of the classifier.\n",
    "\n",
    "You will do this by modifying a separate file containing functions that will be called from this notebook as a module.  You can modify this notebook for testing purposes but please only submit the original.  You will document everything in Markdown in README.md and submit a GitHub repository URL.\n",
    "\n",
    "This assignment is due on **Tuesday, 2021 March 9 at 23:59**.  It has **25 points** and **7 bonus points**."
   ]
  },
  {
   "cell_type": "code",
   "execution_count": 19,
   "metadata": {},
   "outputs": [],
   "source": [
    "import a2\n",
    "from sklearn.svm import LinearSVC"
   ]
  },
  {
   "cell_type": "code",
   "execution_count": 20,
   "metadata": {},
   "outputs": [],
   "source": [
    "gmbfile = open('/scratch/lt2222-v21-resources/GMB_dataset.txt', \"r\")"
   ]
  },
  {
   "cell_type": "markdown",
   "metadata": {},
   "source": [
    "## Part 1 - preprocessing (3 points)"
   ]
  },
  {
   "cell_type": "markdown",
   "metadata": {},
   "source": [
    "See step 1 above.  The data is coming to you as an unused file handle object.  You can return the data in any indexable form you like.  You can also choose to remove infrequent or uninformative words to reduce the size of the feature space. (Document this in README.md.)"
   ]
  },
  {
   "cell_type": "code",
   "execution_count": 21,
   "metadata": {},
   "outputs": [
    {
     "output_type": "execute_result",
     "data": {
      "text/plain": [
       "   Sentence #       Word  POS Tag\n",
       "20        1.0       from   IN   O\n",
       "21        1.0       that   DT   O\n",
       "22        1.0    country   NN   O\n",
       "23        2.0   families  NNS   O\n",
       "24        2.0         of   IN   O\n",
       "25        2.0    soldier  NNS   O\n",
       "26        2.0       kill  VBN   O\n",
       "27        2.0         in   IN   O\n",
       "28        2.0        the   DT   O\n",
       "29        2.0   conflict   NN   O\n",
       "30        2.0       join  VBD   O\n",
       "31        2.0        the   DT   O\n",
       "32        2.0  protester  NNS   O\n",
       "33        2.0        who   WP   O\n",
       "34        2.0      carry  VBD   O\n",
       "35        2.0     banner  NNS   O\n",
       "36        2.0       with   IN   O\n",
       "37        2.0       such   JJ   O\n",
       "38        2.0     slogan  NNS   O\n",
       "39        2.0         as   IN   O"
      ],
      "text/html": "<div>\n<style scoped>\n    .dataframe tbody tr th:only-of-type {\n        vertical-align: middle;\n    }\n\n    .dataframe tbody tr th {\n        vertical-align: top;\n    }\n\n    .dataframe thead th {\n        text-align: right;\n    }\n</style>\n<table border=\"1\" class=\"dataframe\">\n  <thead>\n    <tr style=\"text-align: right;\">\n      <th></th>\n      <th>Sentence #</th>\n      <th>Word</th>\n      <th>POS</th>\n      <th>Tag</th>\n    </tr>\n  </thead>\n  <tbody>\n    <tr>\n      <th>20</th>\n      <td>1.0</td>\n      <td>from</td>\n      <td>IN</td>\n      <td>O</td>\n    </tr>\n    <tr>\n      <th>21</th>\n      <td>1.0</td>\n      <td>that</td>\n      <td>DT</td>\n      <td>O</td>\n    </tr>\n    <tr>\n      <th>22</th>\n      <td>1.0</td>\n      <td>country</td>\n      <td>NN</td>\n      <td>O</td>\n    </tr>\n    <tr>\n      <th>23</th>\n      <td>2.0</td>\n      <td>families</td>\n      <td>NNS</td>\n      <td>O</td>\n    </tr>\n    <tr>\n      <th>24</th>\n      <td>2.0</td>\n      <td>of</td>\n      <td>IN</td>\n      <td>O</td>\n    </tr>\n    <tr>\n      <th>25</th>\n      <td>2.0</td>\n      <td>soldier</td>\n      <td>NNS</td>\n      <td>O</td>\n    </tr>\n    <tr>\n      <th>26</th>\n      <td>2.0</td>\n      <td>kill</td>\n      <td>VBN</td>\n      <td>O</td>\n    </tr>\n    <tr>\n      <th>27</th>\n      <td>2.0</td>\n      <td>in</td>\n      <td>IN</td>\n      <td>O</td>\n    </tr>\n    <tr>\n      <th>28</th>\n      <td>2.0</td>\n      <td>the</td>\n      <td>DT</td>\n      <td>O</td>\n    </tr>\n    <tr>\n      <th>29</th>\n      <td>2.0</td>\n      <td>conflict</td>\n      <td>NN</td>\n      <td>O</td>\n    </tr>\n    <tr>\n      <th>30</th>\n      <td>2.0</td>\n      <td>join</td>\n      <td>VBD</td>\n      <td>O</td>\n    </tr>\n    <tr>\n      <th>31</th>\n      <td>2.0</td>\n      <td>the</td>\n      <td>DT</td>\n      <td>O</td>\n    </tr>\n    <tr>\n      <th>32</th>\n      <td>2.0</td>\n      <td>protester</td>\n      <td>NNS</td>\n      <td>O</td>\n    </tr>\n    <tr>\n      <th>33</th>\n      <td>2.0</td>\n      <td>who</td>\n      <td>WP</td>\n      <td>O</td>\n    </tr>\n    <tr>\n      <th>34</th>\n      <td>2.0</td>\n      <td>carry</td>\n      <td>VBD</td>\n      <td>O</td>\n    </tr>\n    <tr>\n      <th>35</th>\n      <td>2.0</td>\n      <td>banner</td>\n      <td>NNS</td>\n      <td>O</td>\n    </tr>\n    <tr>\n      <th>36</th>\n      <td>2.0</td>\n      <td>with</td>\n      <td>IN</td>\n      <td>O</td>\n    </tr>\n    <tr>\n      <th>37</th>\n      <td>2.0</td>\n      <td>such</td>\n      <td>JJ</td>\n      <td>O</td>\n    </tr>\n    <tr>\n      <th>38</th>\n      <td>2.0</td>\n      <td>slogan</td>\n      <td>NNS</td>\n      <td>O</td>\n    </tr>\n    <tr>\n      <th>39</th>\n      <td>2.0</td>\n      <td>as</td>\n      <td>IN</td>\n      <td>O</td>\n    </tr>\n  </tbody>\n</table>\n</div>"
     },
     "metadata": {},
     "execution_count": 21
    }
   ],
   "source": [
    "inputdata = a2.preprocess(gmbfile)\n",
    "gmbfile.close()\n",
    "inputdata[20:40]"
   ]
  },
  {
   "cell_type": "markdown",
   "metadata": {},
   "source": [
    "## Part 2 - Creating instances (7 points)"
   ]
  },
  {
   "cell_type": "markdown",
   "metadata": {},
   "source": [
    "Do step 2 above.  You will create a collection of Instance objects.  Remember to consider the case where the NE is at the beginning of a sentence or at the end, or close to either (you can create a special start token for that).  You can also start counting from before the `B` end of the NE mention and after the last `I` of the NE mention. That means that the instances should include things before and after the named entity mention, but not the named entity text itself."
   ]
  },
  {
   "cell_type": "code",
   "execution_count": 22,
   "metadata": {},
   "outputs": [],
   "source": [
    "instances = a2.create_instances(inputdata)"
   ]
  },
  {
   "cell_type": "code",
   "execution_count": 23,
   "metadata": {},
   "outputs": [
    {
     "output_type": "execute_result",
     "data": {
      "text/plain": [
       "[Class: gpe Features: ['<S1>', '<S2>', '<S3>', '<S4>', '<S5>', 'this', 'week', 'restart', 'part', 'of'],\n",
       " Class: geo Features: ['the', 'conversion', 'process', 'at', 'its', 'nuclear', 'plant', '<E5>', '<E4>', '<E3>'],\n",
       " Class: gpe Features: ['<S1>', '<S2>', '<S3>', '<S4>', '<S5>', 'official', 'say', 'they', 'expect', 'to'],\n",
       " Class: tim Features: ['sensitive', 'part', 'of', 'the', 'plant', 'after', 'an', 'iaea', 'surveillance', 'system'],\n",
       " Class: org Features: ['the', 'plant', 'wednesday', 'after', 'an', 'surveillance', 'system', 'begin', 'function', '<E5>'],\n",
       " Class: org Features: ['<S2>', '<S3>', '<S4>', '<S5>', 'the', 'with', 'backing', 'have', 'threaten', 'to'],\n",
       " Class: gpe Features: ['backing', 'have', 'threaten', 'to', 'refer', 'to', 'the', 'which', 'could', 'impose'],\n",
       " Class: gpe Features: ['impose', 'sanction', 'if', 'it', 'find', 'have', 'violate', 'the', 'nuclear', 'treaty'],\n",
       " Class: art Features: ['find', 'tehran', 'have', 'violate', 'the', 'treaty', '<E5>', '<E4>', '<E3>', '<E2>'],\n",
       " Class: gpe Features: ['<S1>', '<S2>', '<S3>', '<S4>', '<S5>', 'new', 'president', 'say', 'tuesday', 'that'],\n",
       " Class: per Features: ['<S3>', '<S4>', '<S5>', 'iran', 'new', 'say', 'tuesday', 'that', 'european', 'incentive'],\n",
       " Class: tim Features: ['<S5>', 'iran', 'new', 'president', 'say', 'that', 'european', 'incentive', 'aim', 'at'],\n",
       " Class: gpe Features: ['new', 'president', 'say', 'tuesday', 'that', 'incentive', 'aim', 'at', 'persuade', 'iran'],\n",
       " Class: gpe Features: ['european', 'incentive', 'aim', 'at', 'persuade', 'to', 'end', 'its', 'nuclear', 'fuel'],\n",
       " Class: gpe Features: ['be', 'an', 'insult', 'to', 'the', 'nation', '<E5>', '<E4>', '<E3>', '<E2>'],\n",
       " Class: gpe Features: ['<S2>', '<S3>', '<S4>', '<S5>', 'two', 'and', 'four', 'nigerian', 'oil', 'worker'],\n",
       " Class: gpe Features: ['<S5>', 'two', 'germans', 'and', 'four', 'oil', 'worker', 'be', 'kidnap', 'by'],\n",
       " Class: geo Features: ['raid', 'on', 'a', 'boat', 'in', 'southern', 'delta', 'region', '<E5>', '<E4>'],\n",
       " Class: geo Features: ['a', 'boat', 'in', 'nigeria', 'southern', 'region', '<E5>', '<E4>', '<E3>', '<E2>'],\n",
       " Class: gpe Features: ['<S5>', 'an', 'official', 'with', 'the', 'firm', 'bilfinger', 'thomas', 'say', 'the']]"
      ]
     },
     "metadata": {},
     "execution_count": 23
    }
   ],
   "source": [
    "instances[20:40]"
   ]
  },
  {
   "cell_type": "markdown",
   "metadata": {},
   "source": [
    "## Part 3 - Creating the table and splitting (10 points)\n",
    "\n",
    "Here you're going to write the functions that create a data table with \"document\" vectors representing each instance and split the table into training and testing sets and random with an 80%/20% train/test split."
   ]
  },
  {
   "cell_type": "code",
   "execution_count": 24,
   "metadata": {},
   "outputs": [
    {
     "output_type": "execute_result",
     "data": {
      "text/plain": [
       "   class_label         0         1         2         3         4         5  \\\n",
       "20         gpe  1.306191 -1.393678 -0.856177 -0.159720 -0.232271  0.947830   \n",
       "21         geo  1.252120  1.073757 -0.137493 -0.622313 -0.065853 -0.218711   \n",
       "22         gpe  1.406369 -1.615540 -0.943625 -0.023773  0.515520 -0.170753   \n",
       "23         tim  0.799629  0.139391  0.846929 -0.336581 -0.159508  0.683823   \n",
       "24         org  0.862888  0.407155  0.419224 -0.405613 -0.088230 -0.212306   \n",
       "25         org  1.817505 -1.316782 -0.155113 -0.337877  0.541957 -0.388346   \n",
       "26         gpe  0.953128  0.013136  0.790544 -0.112943  1.455551 -0.579019   \n",
       "27         gpe  0.692918 -0.044177  0.636781 -0.319148  0.005390 -0.209232   \n",
       "28         art  1.475658  1.262904 -0.397105 -0.695031 -0.008873 -0.270761   \n",
       "29         gpe  1.316424 -1.639753 -0.995663 -0.101843 -0.185616  0.006845   \n",
       "30         per  1.004105 -1.187314 -0.602631 -0.020675 -0.124426 -0.046913   \n",
       "31         tim  0.552427 -0.512041 -0.137339  0.101280  0.013829 -0.060575   \n",
       "32         gpe  0.251754 -0.148632  0.050591  0.109774  0.041379 -0.051589   \n",
       "33         gpe  0.187696  0.026073  0.082676  0.163308  0.772365 -0.171520   \n",
       "34         gpe  1.678273  1.321454 -0.260180 -0.453464  1.009807 -0.461258   \n",
       "35         gpe  1.136048 -1.278649 -0.799920 -0.019049  0.068558  0.055687   \n",
       "36         gpe  0.635609 -0.360355 -0.070792  0.319509  0.640565 -0.009605   \n",
       "37         geo  0.943293  0.876213 -0.381535  0.985752 -0.148612  0.112450   \n",
       "38         geo  1.238211  1.453104 -0.897892  0.762493 -0.231023  0.052967   \n",
       "39         gpe  1.641343 -0.415024  1.142961 -0.720441 -0.285585 -0.497390   \n",
       "\n",
       "           6         7         8  ...       290       291       292       293  \\\n",
       "20 -0.080729  0.316555 -0.557750  ...  0.055124 -0.057452  0.039956 -0.050367   \n",
       "21 -0.054662 -0.134304  0.142867  ... -0.032305  0.031440  0.004685  0.011848   \n",
       "22 -0.344187 -0.019561 -0.494608  ...  0.027847  0.004815  0.019572  0.021553   \n",
       "23 -0.142515  0.179903 -0.180666  ...  0.020929 -0.059583  0.025770 -0.065804   \n",
       "24 -0.047591 -0.100860  0.093663  ... -0.015705 -0.016415 -0.005673 -0.048462   \n",
       "25 -0.391349 -0.155940 -0.679697  ...  0.019466  0.029130  0.016828 -0.021648   \n",
       "26 -0.726399 -0.199130 -0.944674  ... -0.035715 -0.028130  0.031168 -0.049351   \n",
       "27 -0.062210 -0.090125  0.033261  ...  0.048008  0.035037  0.025748  0.040363   \n",
       "28 -0.071104 -0.141391  0.144866  ...  0.080585  0.015673  0.048744  0.064552   \n",
       "29 -0.004194  0.018092 -0.035866  ...  0.024070 -0.002715  0.010838 -0.005725   \n",
       "30 -0.008722 -0.052404  0.136524  ...  0.027183  0.037251 -0.052224 -0.030035   \n",
       "31  0.003446 -0.082087  0.271663  ...  0.050077  0.019229 -0.081420  0.010171   \n",
       "32 -0.002432 -0.059501  0.278088  ...  0.024511 -0.062039 -0.022446  0.025269   \n",
       "33 -0.347386 -0.066777 -0.478751  ...  0.134504 -0.196097 -0.213120  0.074925   \n",
       "34 -0.394740  0.486813  0.307423  ... -0.024337  0.010609  0.011802 -0.014096   \n",
       "35  0.938165 -0.086989 -0.352775  ...  0.013206 -0.041546  0.025902 -0.004880   \n",
       "36  0.977619  0.538104  0.453478  ... -0.006230  0.019464 -0.006441  0.006077   \n",
       "37 -0.182800 -0.611344  0.252006  ...  0.008493  0.023707 -0.035912  0.003612   \n",
       "38 -0.212899 -0.575099  0.328521  ...  0.032301 -0.003896 -0.006352 -0.010730   \n",
       "39 -0.095731 -0.245734  0.391686  ... -0.018479  0.085925  0.025732 -0.027352   \n",
       "\n",
       "         294       295       296       297       298       299  \n",
       "20  0.025615  0.013605  0.008567 -0.014485  0.019196  0.034361  \n",
       "21  0.012704  0.007718  0.018015 -0.051808 -0.002584 -0.014393  \n",
       "22  0.022996 -0.015974 -0.038568  0.040157  0.001114 -0.029251  \n",
       "23 -0.054863  0.005939  0.138043 -0.058453  0.093844  0.019335  \n",
       "24 -0.044660 -0.008889  0.091033 -0.039493  0.058408 -0.017007  \n",
       "25  0.011764 -0.017182  0.018476 -0.035019  0.003168 -0.020222  \n",
       "26  0.039510 -0.024351  0.054437 -0.047914 -0.010928 -0.055949  \n",
       "27  0.118607  0.010036  0.016884  0.014214  0.050255 -0.056933  \n",
       "28  0.034941 -0.097972  0.130679 -0.004468  0.065030  0.041262  \n",
       "29 -0.002342  0.004583 -0.002098 -0.006686  0.003740 -0.011666  \n",
       "30 -0.044599  0.020951 -0.004434 -0.012465  0.076730  0.036160  \n",
       "31 -0.029546  0.012583 -0.032573 -0.031056  0.097877  0.050477  \n",
       "32 -0.039928  0.028985  0.018759 -0.059692  0.070322  0.025711  \n",
       "33  0.025741  0.189013 -0.264771 -0.051963  0.054931  0.138419  \n",
       "34  0.080397 -0.001634 -0.024965  0.043583  0.050227  0.002822  \n",
       "35 -0.070898  0.094759 -0.030767  0.053302  0.029549 -0.003053  \n",
       "36 -0.057382  0.029875 -0.003482  0.076085  0.090058 -0.003151  \n",
       "37  0.113794  0.049341 -0.007994  0.001252  0.046106  0.017839  \n",
       "38  0.089872  0.004786 -0.016500 -0.016546  0.030239  0.016284  \n",
       "39 -0.001309 -0.030601  0.042569  0.007673  0.083210  0.009039  \n",
       "\n",
       "[20 rows x 301 columns]"
      ],
      "text/html": "<div>\n<style scoped>\n    .dataframe tbody tr th:only-of-type {\n        vertical-align: middle;\n    }\n\n    .dataframe tbody tr th {\n        vertical-align: top;\n    }\n\n    .dataframe thead th {\n        text-align: right;\n    }\n</style>\n<table border=\"1\" class=\"dataframe\">\n  <thead>\n    <tr style=\"text-align: right;\">\n      <th></th>\n      <th>class_label</th>\n      <th>0</th>\n      <th>1</th>\n      <th>2</th>\n      <th>3</th>\n      <th>4</th>\n      <th>5</th>\n      <th>6</th>\n      <th>7</th>\n      <th>8</th>\n      <th>...</th>\n      <th>290</th>\n      <th>291</th>\n      <th>292</th>\n      <th>293</th>\n      <th>294</th>\n      <th>295</th>\n      <th>296</th>\n      <th>297</th>\n      <th>298</th>\n      <th>299</th>\n    </tr>\n  </thead>\n  <tbody>\n    <tr>\n      <th>20</th>\n      <td>gpe</td>\n      <td>1.306191</td>\n      <td>-1.393678</td>\n      <td>-0.856177</td>\n      <td>-0.159720</td>\n      <td>-0.232271</td>\n      <td>0.947830</td>\n      <td>-0.080729</td>\n      <td>0.316555</td>\n      <td>-0.557750</td>\n      <td>...</td>\n      <td>0.055124</td>\n      <td>-0.057452</td>\n      <td>0.039956</td>\n      <td>-0.050367</td>\n      <td>0.025615</td>\n      <td>0.013605</td>\n      <td>0.008567</td>\n      <td>-0.014485</td>\n      <td>0.019196</td>\n      <td>0.034361</td>\n    </tr>\n    <tr>\n      <th>21</th>\n      <td>geo</td>\n      <td>1.252120</td>\n      <td>1.073757</td>\n      <td>-0.137493</td>\n      <td>-0.622313</td>\n      <td>-0.065853</td>\n      <td>-0.218711</td>\n      <td>-0.054662</td>\n      <td>-0.134304</td>\n      <td>0.142867</td>\n      <td>...</td>\n      <td>-0.032305</td>\n      <td>0.031440</td>\n      <td>0.004685</td>\n      <td>0.011848</td>\n      <td>0.012704</td>\n      <td>0.007718</td>\n      <td>0.018015</td>\n      <td>-0.051808</td>\n      <td>-0.002584</td>\n      <td>-0.014393</td>\n    </tr>\n    <tr>\n      <th>22</th>\n      <td>gpe</td>\n      <td>1.406369</td>\n      <td>-1.615540</td>\n      <td>-0.943625</td>\n      <td>-0.023773</td>\n      <td>0.515520</td>\n      <td>-0.170753</td>\n      <td>-0.344187</td>\n      <td>-0.019561</td>\n      <td>-0.494608</td>\n      <td>...</td>\n      <td>0.027847</td>\n      <td>0.004815</td>\n      <td>0.019572</td>\n      <td>0.021553</td>\n      <td>0.022996</td>\n      <td>-0.015974</td>\n      <td>-0.038568</td>\n      <td>0.040157</td>\n      <td>0.001114</td>\n      <td>-0.029251</td>\n    </tr>\n    <tr>\n      <th>23</th>\n      <td>tim</td>\n      <td>0.799629</td>\n      <td>0.139391</td>\n      <td>0.846929</td>\n      <td>-0.336581</td>\n      <td>-0.159508</td>\n      <td>0.683823</td>\n      <td>-0.142515</td>\n      <td>0.179903</td>\n      <td>-0.180666</td>\n      <td>...</td>\n      <td>0.020929</td>\n      <td>-0.059583</td>\n      <td>0.025770</td>\n      <td>-0.065804</td>\n      <td>-0.054863</td>\n      <td>0.005939</td>\n      <td>0.138043</td>\n      <td>-0.058453</td>\n      <td>0.093844</td>\n      <td>0.019335</td>\n    </tr>\n    <tr>\n      <th>24</th>\n      <td>org</td>\n      <td>0.862888</td>\n      <td>0.407155</td>\n      <td>0.419224</td>\n      <td>-0.405613</td>\n      <td>-0.088230</td>\n      <td>-0.212306</td>\n      <td>-0.047591</td>\n      <td>-0.100860</td>\n      <td>0.093663</td>\n      <td>...</td>\n      <td>-0.015705</td>\n      <td>-0.016415</td>\n      <td>-0.005673</td>\n      <td>-0.048462</td>\n      <td>-0.044660</td>\n      <td>-0.008889</td>\n      <td>0.091033</td>\n      <td>-0.039493</td>\n      <td>0.058408</td>\n      <td>-0.017007</td>\n    </tr>\n    <tr>\n      <th>25</th>\n      <td>org</td>\n      <td>1.817505</td>\n      <td>-1.316782</td>\n      <td>-0.155113</td>\n      <td>-0.337877</td>\n      <td>0.541957</td>\n      <td>-0.388346</td>\n      <td>-0.391349</td>\n      <td>-0.155940</td>\n      <td>-0.679697</td>\n      <td>...</td>\n      <td>0.019466</td>\n      <td>0.029130</td>\n      <td>0.016828</td>\n      <td>-0.021648</td>\n      <td>0.011764</td>\n      <td>-0.017182</td>\n      <td>0.018476</td>\n      <td>-0.035019</td>\n      <td>0.003168</td>\n      <td>-0.020222</td>\n    </tr>\n    <tr>\n      <th>26</th>\n      <td>gpe</td>\n      <td>0.953128</td>\n      <td>0.013136</td>\n      <td>0.790544</td>\n      <td>-0.112943</td>\n      <td>1.455551</td>\n      <td>-0.579019</td>\n      <td>-0.726399</td>\n      <td>-0.199130</td>\n      <td>-0.944674</td>\n      <td>...</td>\n      <td>-0.035715</td>\n      <td>-0.028130</td>\n      <td>0.031168</td>\n      <td>-0.049351</td>\n      <td>0.039510</td>\n      <td>-0.024351</td>\n      <td>0.054437</td>\n      <td>-0.047914</td>\n      <td>-0.010928</td>\n      <td>-0.055949</td>\n    </tr>\n    <tr>\n      <th>27</th>\n      <td>gpe</td>\n      <td>0.692918</td>\n      <td>-0.044177</td>\n      <td>0.636781</td>\n      <td>-0.319148</td>\n      <td>0.005390</td>\n      <td>-0.209232</td>\n      <td>-0.062210</td>\n      <td>-0.090125</td>\n      <td>0.033261</td>\n      <td>...</td>\n      <td>0.048008</td>\n      <td>0.035037</td>\n      <td>0.025748</td>\n      <td>0.040363</td>\n      <td>0.118607</td>\n      <td>0.010036</td>\n      <td>0.016884</td>\n      <td>0.014214</td>\n      <td>0.050255</td>\n      <td>-0.056933</td>\n    </tr>\n    <tr>\n      <th>28</th>\n      <td>art</td>\n      <td>1.475658</td>\n      <td>1.262904</td>\n      <td>-0.397105</td>\n      <td>-0.695031</td>\n      <td>-0.008873</td>\n      <td>-0.270761</td>\n      <td>-0.071104</td>\n      <td>-0.141391</td>\n      <td>0.144866</td>\n      <td>...</td>\n      <td>0.080585</td>\n      <td>0.015673</td>\n      <td>0.048744</td>\n      <td>0.064552</td>\n      <td>0.034941</td>\n      <td>-0.097972</td>\n      <td>0.130679</td>\n      <td>-0.004468</td>\n      <td>0.065030</td>\n      <td>0.041262</td>\n    </tr>\n    <tr>\n      <th>29</th>\n      <td>gpe</td>\n      <td>1.316424</td>\n      <td>-1.639753</td>\n      <td>-0.995663</td>\n      <td>-0.101843</td>\n      <td>-0.185616</td>\n      <td>0.006845</td>\n      <td>-0.004194</td>\n      <td>0.018092</td>\n      <td>-0.035866</td>\n      <td>...</td>\n      <td>0.024070</td>\n      <td>-0.002715</td>\n      <td>0.010838</td>\n      <td>-0.005725</td>\n      <td>-0.002342</td>\n      <td>0.004583</td>\n      <td>-0.002098</td>\n      <td>-0.006686</td>\n      <td>0.003740</td>\n      <td>-0.011666</td>\n    </tr>\n    <tr>\n      <th>30</th>\n      <td>per</td>\n      <td>1.004105</td>\n      <td>-1.187314</td>\n      <td>-0.602631</td>\n      <td>-0.020675</td>\n      <td>-0.124426</td>\n      <td>-0.046913</td>\n      <td>-0.008722</td>\n      <td>-0.052404</td>\n      <td>0.136524</td>\n      <td>...</td>\n      <td>0.027183</td>\n      <td>0.037251</td>\n      <td>-0.052224</td>\n      <td>-0.030035</td>\n      <td>-0.044599</td>\n      <td>0.020951</td>\n      <td>-0.004434</td>\n      <td>-0.012465</td>\n      <td>0.076730</td>\n      <td>0.036160</td>\n    </tr>\n    <tr>\n      <th>31</th>\n      <td>tim</td>\n      <td>0.552427</td>\n      <td>-0.512041</td>\n      <td>-0.137339</td>\n      <td>0.101280</td>\n      <td>0.013829</td>\n      <td>-0.060575</td>\n      <td>0.003446</td>\n      <td>-0.082087</td>\n      <td>0.271663</td>\n      <td>...</td>\n      <td>0.050077</td>\n      <td>0.019229</td>\n      <td>-0.081420</td>\n      <td>0.010171</td>\n      <td>-0.029546</td>\n      <td>0.012583</td>\n      <td>-0.032573</td>\n      <td>-0.031056</td>\n      <td>0.097877</td>\n      <td>0.050477</td>\n    </tr>\n    <tr>\n      <th>32</th>\n      <td>gpe</td>\n      <td>0.251754</td>\n      <td>-0.148632</td>\n      <td>0.050591</td>\n      <td>0.109774</td>\n      <td>0.041379</td>\n      <td>-0.051589</td>\n      <td>-0.002432</td>\n      <td>-0.059501</td>\n      <td>0.278088</td>\n      <td>...</td>\n      <td>0.024511</td>\n      <td>-0.062039</td>\n      <td>-0.022446</td>\n      <td>0.025269</td>\n      <td>-0.039928</td>\n      <td>0.028985</td>\n      <td>0.018759</td>\n      <td>-0.059692</td>\n      <td>0.070322</td>\n      <td>0.025711</td>\n    </tr>\n    <tr>\n      <th>33</th>\n      <td>gpe</td>\n      <td>0.187696</td>\n      <td>0.026073</td>\n      <td>0.082676</td>\n      <td>0.163308</td>\n      <td>0.772365</td>\n      <td>-0.171520</td>\n      <td>-0.347386</td>\n      <td>-0.066777</td>\n      <td>-0.478751</td>\n      <td>...</td>\n      <td>0.134504</td>\n      <td>-0.196097</td>\n      <td>-0.213120</td>\n      <td>0.074925</td>\n      <td>0.025741</td>\n      <td>0.189013</td>\n      <td>-0.264771</td>\n      <td>-0.051963</td>\n      <td>0.054931</td>\n      <td>0.138419</td>\n    </tr>\n    <tr>\n      <th>34</th>\n      <td>gpe</td>\n      <td>1.678273</td>\n      <td>1.321454</td>\n      <td>-0.260180</td>\n      <td>-0.453464</td>\n      <td>1.009807</td>\n      <td>-0.461258</td>\n      <td>-0.394740</td>\n      <td>0.486813</td>\n      <td>0.307423</td>\n      <td>...</td>\n      <td>-0.024337</td>\n      <td>0.010609</td>\n      <td>0.011802</td>\n      <td>-0.014096</td>\n      <td>0.080397</td>\n      <td>-0.001634</td>\n      <td>-0.024965</td>\n      <td>0.043583</td>\n      <td>0.050227</td>\n      <td>0.002822</td>\n    </tr>\n    <tr>\n      <th>35</th>\n      <td>gpe</td>\n      <td>1.136048</td>\n      <td>-1.278649</td>\n      <td>-0.799920</td>\n      <td>-0.019049</td>\n      <td>0.068558</td>\n      <td>0.055687</td>\n      <td>0.938165</td>\n      <td>-0.086989</td>\n      <td>-0.352775</td>\n      <td>...</td>\n      <td>0.013206</td>\n      <td>-0.041546</td>\n      <td>0.025902</td>\n      <td>-0.004880</td>\n      <td>-0.070898</td>\n      <td>0.094759</td>\n      <td>-0.030767</td>\n      <td>0.053302</td>\n      <td>0.029549</td>\n      <td>-0.003053</td>\n    </tr>\n    <tr>\n      <th>36</th>\n      <td>gpe</td>\n      <td>0.635609</td>\n      <td>-0.360355</td>\n      <td>-0.070792</td>\n      <td>0.319509</td>\n      <td>0.640565</td>\n      <td>-0.009605</td>\n      <td>0.977619</td>\n      <td>0.538104</td>\n      <td>0.453478</td>\n      <td>...</td>\n      <td>-0.006230</td>\n      <td>0.019464</td>\n      <td>-0.006441</td>\n      <td>0.006077</td>\n      <td>-0.057382</td>\n      <td>0.029875</td>\n      <td>-0.003482</td>\n      <td>0.076085</td>\n      <td>0.090058</td>\n      <td>-0.003151</td>\n    </tr>\n    <tr>\n      <th>37</th>\n      <td>geo</td>\n      <td>0.943293</td>\n      <td>0.876213</td>\n      <td>-0.381535</td>\n      <td>0.985752</td>\n      <td>-0.148612</td>\n      <td>0.112450</td>\n      <td>-0.182800</td>\n      <td>-0.611344</td>\n      <td>0.252006</td>\n      <td>...</td>\n      <td>0.008493</td>\n      <td>0.023707</td>\n      <td>-0.035912</td>\n      <td>0.003612</td>\n      <td>0.113794</td>\n      <td>0.049341</td>\n      <td>-0.007994</td>\n      <td>0.001252</td>\n      <td>0.046106</td>\n      <td>0.017839</td>\n    </tr>\n    <tr>\n      <th>38</th>\n      <td>geo</td>\n      <td>1.238211</td>\n      <td>1.453104</td>\n      <td>-0.897892</td>\n      <td>0.762493</td>\n      <td>-0.231023</td>\n      <td>0.052967</td>\n      <td>-0.212899</td>\n      <td>-0.575099</td>\n      <td>0.328521</td>\n      <td>...</td>\n      <td>0.032301</td>\n      <td>-0.003896</td>\n      <td>-0.006352</td>\n      <td>-0.010730</td>\n      <td>0.089872</td>\n      <td>0.004786</td>\n      <td>-0.016500</td>\n      <td>-0.016546</td>\n      <td>0.030239</td>\n      <td>0.016284</td>\n    </tr>\n    <tr>\n      <th>39</th>\n      <td>gpe</td>\n      <td>1.641343</td>\n      <td>-0.415024</td>\n      <td>1.142961</td>\n      <td>-0.720441</td>\n      <td>-0.285585</td>\n      <td>-0.497390</td>\n      <td>-0.095731</td>\n      <td>-0.245734</td>\n      <td>0.391686</td>\n      <td>...</td>\n      <td>-0.018479</td>\n      <td>0.085925</td>\n      <td>0.025732</td>\n      <td>-0.027352</td>\n      <td>-0.001309</td>\n      <td>-0.030601</td>\n      <td>0.042569</td>\n      <td>0.007673</td>\n      <td>0.083210</td>\n      <td>0.009039</td>\n    </tr>\n  </tbody>\n</table>\n<p>20 rows × 301 columns</p>\n</div>"
     },
     "metadata": {},
     "execution_count": 24
    }
   ],
   "source": [
    "bigdf = a2.create_table(instances)\n",
    "bigdf[20:40]"
   ]
  },
  {
   "cell_type": "code",
   "execution_count": 25,
   "metadata": {},
   "outputs": [
    {
     "output_type": "execute_result",
     "data": {
      "text/plain": [
       "(array([[ 8.94145766e-01,  2.09369861e-01,  7.67221426e-01, ...,\n",
       "         -1.27111092e-02, -4.08251617e-02, -2.71728125e-03],\n",
       "        [ 1.55102608e+00,  1.38428112e+00, -3.01299324e-01, ...,\n",
       "         -7.45544066e-02, -1.77918957e-01,  1.24596480e-01],\n",
       "        [ 9.60690805e-01, -1.14172530e+00, -6.77168161e-01, ...,\n",
       "          3.58927582e-02, -4.28474998e-02, -4.18088752e-02],\n",
       "        ...,\n",
       "        [ 8.17490208e-01, -1.77385010e-02,  7.13453196e-01, ...,\n",
       "          1.10160626e-01,  2.87199703e-02,  5.21909207e-02],\n",
       "        [ 9.39612184e-01,  1.73633385e-01,  9.10231199e-01, ...,\n",
       "         -3.84916556e-03,  6.71883419e-02, -1.88316748e-02],\n",
       "        [ 2.69650912e+00,  2.05842898e-01,  2.79936887e+00, ...,\n",
       "         -1.83845471e-02, -1.12738959e-02,  8.43093432e-03]]),\n",
       " 4659    geo\n",
       " 620     gpe\n",
       " 4841    gpe\n",
       " 716     gpe\n",
       " 3335    geo\n",
       "        ... \n",
       " 494     geo\n",
       " 23      tim\n",
       " 3925    gpe\n",
       " 2970    org\n",
       " 4777    geo\n",
       " Name: class_label, Length: 5022, dtype: object,\n",
       " array([[ 1.48020062e+00,  1.66771471e+00, -1.02014086e+00, ...,\n",
       "         -1.04238704e-01, -6.79191350e-02, -3.68287914e-02],\n",
       "        [ 6.78925329e-01,  2.82550418e-01,  3.69716471e-01, ...,\n",
       "          1.95639345e-02,  3.29137208e-03, -2.73740932e-02],\n",
       "        [ 1.81750480e+00, -1.31678243e+00, -1.55112546e-01, ...,\n",
       "         -3.50191857e-02,  3.16761161e-03, -2.02220508e-02],\n",
       "        ...,\n",
       "        [ 1.00650328e+00,  1.35271042e-01,  8.76957463e-01, ...,\n",
       "          5.41235873e-02,  2.30540892e-02, -3.33641472e-02],\n",
       "        [ 1.26346845e+00, -1.56267277e+00, -1.04587834e+00, ...,\n",
       "          1.28651798e-02,  1.39279373e-02, -3.26274532e-02],\n",
       "        [ 1.38201245e-01,  1.28159252e-02,  3.44544422e-02, ...,\n",
       "         -8.19722640e-02,  7.59847515e-02, -6.60584999e-04]]),\n",
       " 4       geo\n",
       " 17      geo\n",
       " 25      org\n",
       " 26      gpe\n",
       " 33      gpe\n",
       "        ... \n",
       " 6246    org\n",
       " 6247    org\n",
       " 6263    geo\n",
       " 6266    geo\n",
       " 6273    per\n",
       " Name: class_label, Length: 1256, dtype: object)"
      ]
     },
     "metadata": {},
     "execution_count": 25
    }
   ],
   "source": [
    "train_X, train_y, test_X, test_y = a2.ttsplit(bigdf)\n",
    "\n",
    "# X and y mean feature matrix and class respectively.\n",
    "train_X, train_y, test_X, test_y"
   ]
  },
  {
   "cell_type": "code",
   "execution_count": 26,
   "metadata": {},
   "outputs": [
    {
     "output_type": "execute_result",
     "data": {
      "text/plain": [
       "0.20006371455877667"
      ]
     },
     "metadata": {},
     "execution_count": 26
    }
   ],
   "source": [
    "len(test_y) / (len(test_y) + len(train_y))"
   ]
  },
  {
   "cell_type": "code",
   "execution_count": 27,
   "metadata": {},
   "outputs": [
    {
     "output_type": "execute_result",
     "data": {
      "text/plain": [
       "0.20006371455877667"
      ]
     },
     "metadata": {},
     "execution_count": 27
    }
   ],
   "source": [
    "len(test_X) / (len(test_X) + len(train_X))"
   ]
  },
  {
   "cell_type": "code",
   "execution_count": 28,
   "metadata": {},
   "outputs": [
    {
     "output_type": "execute_result",
     "data": {
      "text/plain": [
       "'geo'"
      ]
     },
     "metadata": {},
     "execution_count": 28
    }
   ],
   "source": [
    "test_y.iloc[0]"
   ]
  },
  {
   "cell_type": "markdown",
   "metadata": {},
   "source": [
    "## Part 4 - Training the model (0 points)"
   ]
  },
  {
   "cell_type": "markdown",
   "metadata": {},
   "source": [
    "This part you won't do yourself."
   ]
  },
  {
   "cell_type": "code",
   "execution_count": 29,
   "metadata": {},
   "outputs": [],
   "source": [
    "model = LinearSVC()\n",
    "model.fit(train_X, train_y)\n",
    "train_predictions = model.predict(train_X)\n",
    "test_predictions = model.predict(test_X)"
   ]
  },
  {
   "cell_type": "code",
   "execution_count": 30,
   "metadata": {},
   "outputs": [
    {
     "output_type": "execute_result",
     "data": {
      "text/plain": [
       "array(['geo', 'gpe', 'gpe', ..., 'gpe', 'per', 'org'], dtype=object)"
      ]
     },
     "metadata": {},
     "execution_count": 30
    }
   ],
   "source": [
    "train_predictions"
   ]
  },
  {
   "cell_type": "code",
   "execution_count": 31,
   "metadata": {},
   "outputs": [
    {
     "output_type": "execute_result",
     "data": {
      "text/plain": [
       "4659    geo\n",
       "620     gpe\n",
       "4841    gpe\n",
       "716     gpe\n",
       "3335    geo\n",
       "       ... \n",
       "494     geo\n",
       "23      tim\n",
       "3925    gpe\n",
       "2970    org\n",
       "4777    geo\n",
       "Name: class_label, Length: 5022, dtype: object"
      ]
     },
     "metadata": {},
     "execution_count": 31
    }
   ],
   "source": [
    "train_y"
   ]
  },
  {
   "cell_type": "code",
   "execution_count": 32,
   "metadata": {},
   "outputs": [
    {
     "output_type": "execute_result",
     "data": {
      "text/plain": [
       "array(['geo', 'geo', 'org', ..., 'geo', 'geo', 'per'], dtype=object)"
      ]
     },
     "metadata": {},
     "execution_count": 32
    }
   ],
   "source": [
    "test_predictions"
   ]
  },
  {
   "cell_type": "code",
   "execution_count": 33,
   "metadata": {},
   "outputs": [
    {
     "output_type": "execute_result",
     "data": {
      "text/plain": [
       "4       geo\n",
       "17      geo\n",
       "25      org\n",
       "26      gpe\n",
       "33      gpe\n",
       "       ... \n",
       "6246    org\n",
       "6247    org\n",
       "6263    geo\n",
       "6266    geo\n",
       "6273    per\n",
       "Name: class_label, Length: 1256, dtype: object"
      ]
     },
     "metadata": {},
     "execution_count": 33
    }
   ],
   "source": [
    "test_y"
   ]
  },
  {
   "cell_type": "markdown",
   "metadata": {},
   "source": [
    "## Part 5 - Evaluation (5 points)"
   ]
  },
  {
   "cell_type": "markdown",
   "metadata": {},
   "source": [
    "Investigate for yourself what a \"confusion matrix\".  Then implement a function that takes the data and produces a confusion matrix in any readable form that allows us to compare the performance of the model by class.  "
   ]
  },
  {
   "cell_type": "code",
   "execution_count": 34,
   "metadata": {},
   "outputs": [
    {
     "output_type": "execute_result",
     "data": {
      "text/plain": [
       "     gpe  art  eve  tim  org  per  nat  geo\n",
       "gpe    1    0    3    0    0    1    1    2\n",
       "art    0    1    5    0    0    1    1    3\n",
       "eve    1    1  230   36    2   32   23   42\n",
       "tim    0    0   57   89    0   19   35   24\n",
       "org    0    0    0    0    0    0    0    1\n",
       "per    0    0   71   42    0   68   22   28\n",
       "nat    0    1   44   30    1   25   57   17\n",
       "geo    0    1   90   22    0   24    9   93"
      ],
      "text/html": "<div>\n<style scoped>\n    .dataframe tbody tr th:only-of-type {\n        vertical-align: middle;\n    }\n\n    .dataframe tbody tr th {\n        vertical-align: top;\n    }\n\n    .dataframe thead th {\n        text-align: right;\n    }\n</style>\n<table border=\"1\" class=\"dataframe\">\n  <thead>\n    <tr style=\"text-align: right;\">\n      <th></th>\n      <th>gpe</th>\n      <th>art</th>\n      <th>eve</th>\n      <th>tim</th>\n      <th>org</th>\n      <th>per</th>\n      <th>nat</th>\n      <th>geo</th>\n    </tr>\n  </thead>\n  <tbody>\n    <tr>\n      <th>gpe</th>\n      <td>1</td>\n      <td>0</td>\n      <td>3</td>\n      <td>0</td>\n      <td>0</td>\n      <td>1</td>\n      <td>1</td>\n      <td>2</td>\n    </tr>\n    <tr>\n      <th>art</th>\n      <td>0</td>\n      <td>1</td>\n      <td>5</td>\n      <td>0</td>\n      <td>0</td>\n      <td>1</td>\n      <td>1</td>\n      <td>3</td>\n    </tr>\n    <tr>\n      <th>eve</th>\n      <td>1</td>\n      <td>1</td>\n      <td>230</td>\n      <td>36</td>\n      <td>2</td>\n      <td>32</td>\n      <td>23</td>\n      <td>42</td>\n    </tr>\n    <tr>\n      <th>tim</th>\n      <td>0</td>\n      <td>0</td>\n      <td>57</td>\n      <td>89</td>\n      <td>0</td>\n      <td>19</td>\n      <td>35</td>\n      <td>24</td>\n    </tr>\n    <tr>\n      <th>org</th>\n      <td>0</td>\n      <td>0</td>\n      <td>0</td>\n      <td>0</td>\n      <td>0</td>\n      <td>0</td>\n      <td>0</td>\n      <td>1</td>\n    </tr>\n    <tr>\n      <th>per</th>\n      <td>0</td>\n      <td>0</td>\n      <td>71</td>\n      <td>42</td>\n      <td>0</td>\n      <td>68</td>\n      <td>22</td>\n      <td>28</td>\n    </tr>\n    <tr>\n      <th>nat</th>\n      <td>0</td>\n      <td>1</td>\n      <td>44</td>\n      <td>30</td>\n      <td>1</td>\n      <td>25</td>\n      <td>57</td>\n      <td>17</td>\n    </tr>\n    <tr>\n      <th>geo</th>\n      <td>0</td>\n      <td>1</td>\n      <td>90</td>\n      <td>22</td>\n      <td>0</td>\n      <td>24</td>\n      <td>9</td>\n      <td>93</td>\n    </tr>\n  </tbody>\n</table>\n</div>"
     },
     "metadata": {},
     "execution_count": 34
    }
   ],
   "source": [
    "a2.confusion_matrix(test_y, test_predictions)"
   ]
  },
  {
   "cell_type": "code",
   "execution_count": 35,
   "metadata": {},
   "outputs": [
    {
     "output_type": "execute_result",
     "data": {
      "text/plain": [
       "     gpe  eve   art  tim  org  per  nat  geo\n",
       "gpe   20    0     7    3    0    5    2    4\n",
       "eve    0   14    13    2    0    0    0    4\n",
       "art    1    1  1087  139    0  108   69  138\n",
       "tim    2    0   206  482    0   93   93   64\n",
       "org    0    0     3    1   12    0    0    2\n",
       "per    0    1   213  123    0  349   80   71\n",
       "nat    0    0   148   94    0   86  329   51\n",
       "geo    0    0   265   86    0   76   48  427"
      ],
      "text/html": "<div>\n<style scoped>\n    .dataframe tbody tr th:only-of-type {\n        vertical-align: middle;\n    }\n\n    .dataframe tbody tr th {\n        vertical-align: top;\n    }\n\n    .dataframe thead th {\n        text-align: right;\n    }\n</style>\n<table border=\"1\" class=\"dataframe\">\n  <thead>\n    <tr style=\"text-align: right;\">\n      <th></th>\n      <th>gpe</th>\n      <th>eve</th>\n      <th>art</th>\n      <th>tim</th>\n      <th>org</th>\n      <th>per</th>\n      <th>nat</th>\n      <th>geo</th>\n    </tr>\n  </thead>\n  <tbody>\n    <tr>\n      <th>gpe</th>\n      <td>20</td>\n      <td>0</td>\n      <td>7</td>\n      <td>3</td>\n      <td>0</td>\n      <td>5</td>\n      <td>2</td>\n      <td>4</td>\n    </tr>\n    <tr>\n      <th>eve</th>\n      <td>0</td>\n      <td>14</td>\n      <td>13</td>\n      <td>2</td>\n      <td>0</td>\n      <td>0</td>\n      <td>0</td>\n      <td>4</td>\n    </tr>\n    <tr>\n      <th>art</th>\n      <td>1</td>\n      <td>1</td>\n      <td>1087</td>\n      <td>139</td>\n      <td>0</td>\n      <td>108</td>\n      <td>69</td>\n      <td>138</td>\n    </tr>\n    <tr>\n      <th>tim</th>\n      <td>2</td>\n      <td>0</td>\n      <td>206</td>\n      <td>482</td>\n      <td>0</td>\n      <td>93</td>\n      <td>93</td>\n      <td>64</td>\n    </tr>\n    <tr>\n      <th>org</th>\n      <td>0</td>\n      <td>0</td>\n      <td>3</td>\n      <td>1</td>\n      <td>12</td>\n      <td>0</td>\n      <td>0</td>\n      <td>2</td>\n    </tr>\n    <tr>\n      <th>per</th>\n      <td>0</td>\n      <td>1</td>\n      <td>213</td>\n      <td>123</td>\n      <td>0</td>\n      <td>349</td>\n      <td>80</td>\n      <td>71</td>\n    </tr>\n    <tr>\n      <th>nat</th>\n      <td>0</td>\n      <td>0</td>\n      <td>148</td>\n      <td>94</td>\n      <td>0</td>\n      <td>86</td>\n      <td>329</td>\n      <td>51</td>\n    </tr>\n    <tr>\n      <th>geo</th>\n      <td>0</td>\n      <td>0</td>\n      <td>265</td>\n      <td>86</td>\n      <td>0</td>\n      <td>76</td>\n      <td>48</td>\n      <td>427</td>\n    </tr>\n  </tbody>\n</table>\n</div>"
     },
     "metadata": {},
     "execution_count": 35
    }
   ],
   "source": [
    "a2.confusion_matrix(train_y, train_predictions)"
   ]
  },
  {
   "cell_type": "markdown",
   "metadata": {},
   "source": [
    "Examine the matrix and describe your observations in README.md.  In particular, what do you notice about the predictions on the training data compared to those on the test data."
   ]
  },
  {
   "cell_type": "markdown",
   "metadata": {},
   "source": [
    "## Bonus Part A - Error analysis (2 points)"
   ]
  },
  {
   "cell_type": "markdown",
   "metadata": {},
   "source": [
    "Look at the weakest-performing classes in the confusion matrix (or any, if they all perform poorly to the same extent).  Find some examples in the test data on which the classifier classified incorrectly for those classes.  What do you think is the reason why those are hard?  Consider linguistic factors and statistical factors, if applicable.  Write your answer in README.md."
   ]
  },
  {
   "cell_type": "markdown",
   "metadata": {},
   "source": [
    "## Bonus Part B - Expanding the feature space (7 points)"
   ]
  },
  {
   "cell_type": "markdown",
   "metadata": {},
   "source": [
    "Run the entire process above, but incorporate part-of-speech tag information into the feature vectors.  It's your choice as to how to do this, but document it in README.md.  Your new process should run from the single call below:"
   ]
  },
  {
   "cell_type": "code",
   "execution_count": 36,
   "metadata": {},
   "outputs": [],
   "source": [
    "a2.bonusb('/scratch/lt2222-v21-resources/GMB_dataset.txt')"
   ]
  }
 ],
 "metadata": {
  "kernelspec": {
   "display_name": "Python 3",
   "language": "python",
   "name": "python3"
  },
  "language_info": {
   "codemirror_mode": {
    "name": "ipython",
    "version": 3
   },
   "file_extension": ".py",
   "mimetype": "text/x-python",
   "name": "python",
   "nbconvert_exporter": "python",
   "pygments_lexer": "ipython3",
   "version": "3.7.4-final"
  }
 },
 "nbformat": 4,
 "nbformat_minor": 2
}