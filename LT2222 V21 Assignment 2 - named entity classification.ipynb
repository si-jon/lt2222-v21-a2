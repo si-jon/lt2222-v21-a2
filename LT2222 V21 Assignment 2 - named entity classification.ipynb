{
 "cells": [
  {
   "cell_type": "markdown",
   "metadata": {},
   "source": [
    "## Introduction\n",
    "\n",
    "In this assignment, you are going to build a classifier for named entities from the Groningen Meaning Bank corpus.  Named entity recognition (NER) takes noun phrases from a text and identifies whether they are persons, organizations, and so on.  You will be using the Groningen Meaning Bank named entity corpus available on mltgpu at `/scratch/lt2222-v21-resources/GMB_dataset.txt`.  In this version of the task, you will assume we know *that* something is a named entity, and instead use multi-class classification to identify its type.  So you will be doing named entity classification but *not* recognition.\n",
    "\n",
    "The data looks like this: \n",
    "\n",
    "```\n",
    "3996    182.0   Nicole  NNP     B-per\n",
    "3997    182.0   Ritchie NNP     I-per\n",
    "3998    182.0   is      VBZ     O\n",
    "3999    182.0   pregnant        JJ      O\n",
    "4000    182.0   .       .       O\n",
    "4001    183.0   Speaking        VBG     O\n",
    "4002    183.0   to      TO      O\n",
    "4003    183.0   ABC     NNP     B-org\n",
    "4004    183.0   News    NNP     I-org\n",
    "4005    183.0   interviewer     NN      O\n",
    "4006    183.0   Dianne  NNP     B-per\n",
    "4007    183.0   Sawyer  NNP     I-per\n",
    "4008    183.0   ,       ,       O\n",
    "4009    183.0   the     DT      O\n",
    "4010    183.0   25-year-old     JJ      O\n",
    "4011    183.0   co-star NN      O\n",
    "4012    183.0   of      IN      O\n",
    "4013    183.0   TV      NN      O\n",
    "4014    183.0   's      POS     O\n",
    "4015    183.0   The     DT      B-art\n",
    "4016    183.0   Simple  NNP     I-art\n",
    "4017    183.0   Life    NNP     I-art\n",
    "4018    183.0   said    VBD     O\n",
    "4019    183.0   she     PRP     O\n",
    "4020    183.0   is      VBZ     O\n",
    "4021    183.0   almost  RB      O\n",
    "4022    183.0   four    CD      O\n",
    "4023    183.0   months  NNS     O\n",
    "4024    183.0   along   IN      O\n",
    "4025    183.0   in      IN      O\n",
    "4026    183.0   her     PRP$    O\n",
    "4027    183.0   pregnancy       NN      O\n",
    "4028    183.0   .       .       O\n",
    "```\n",
    "\n",
    "The first column is the line number.  The second column is a sentence number (for some reason given as a float; ignore it).  The third column is the word.  The fourth column is a part of speech (POS) tag in Penn Treebank format.  The last column contains the named entity annotation. \n",
    "\n",
    "The annotation works like this.  Every `O` just means that the row does not represent a named entity.  `B-xyx` means the first word in a named entity with type `xyx`. `I-xyz` means the second and later words of an `xyz` entity, if there are any.  That means that every time there's a `B` or an `I`, there's a named entity.  \n",
    "\n",
    "The entity types in the corpus are `art`,\n",
    "`eve`,\n",
    "`geo`,\n",
    "`gpe`,\n",
    "`nat`,\n",
    "`org`,\n",
    "`per`,\n",
    "and `tim`\n",
    "\n",
    "Your task is the following.\n",
    "1. To preprocess the text (lowercase and lemmatize; punctuation can be preserved as it gets its own rows).\n",
    "2. To create instances from every from every identified named entity in the text with the type of the NE as the class, and a surrounding context of five words on either side as the features.  \n",
    "3. To generate vectors and split the instances into training and testing datasets at random.\n",
    "4. To train a support vector machine (via `sklearn.svm.LinearSVC`) for classifying the NERs.\n",
    "5. To evaluate the performance of the classifier.\n",
    "\n",
    "You will do this by modifying a separate file containing functions that will be called from this notebook as a module.  You can modify this notebook for testing purposes but please only submit the original.  You will document everything in Markdown in README.md and submit a GitHub repository URL.\n",
    "\n",
    "This assignment is due on **Tuesday, 2021 March 9 at 23:59**.  It has **25 points** and **7 bonus points**."
   ]
  },
  {
   "cell_type": "code",
   "execution_count": 1,
   "metadata": {},
   "outputs": [],
   "source": [
    "import a2\n",
    "from sklearn.svm import LinearSVC"
   ]
  },
  {
   "cell_type": "code",
   "execution_count": 2,
   "metadata": {},
   "outputs": [],
   "source": [
    "gmbfile = open('/scratch/lt2222-v21-resources/GMB_dataset.txt', \"r\")"
   ]
  },
  {
   "cell_type": "markdown",
   "metadata": {},
   "source": [
    "## Part 1 - preprocessing (3 points)"
   ]
  },
  {
   "cell_type": "markdown",
   "metadata": {},
   "source": [
    "See step 1 above.  The data is coming to you as an unused file handle object.  You can return the data in any indexable form you like.  You can also choose to remove infrequent or uninformative words to reduce the size of the feature space. (Document this in README.md.)"
   ]
  },
  {
   "cell_type": "code",
   "execution_count": 3,
   "metadata": {},
   "outputs": [
    {
     "output_type": "execute_result",
     "data": {
      "text/plain": [
       "   Sentence #       Word  POS Tag\n",
       "20        1.0       from   IN   O\n",
       "21        1.0       that   DT   O\n",
       "22        1.0    country   NN   O\n",
       "23        2.0   families  NNS   O\n",
       "24        2.0         of   IN   O\n",
       "25        2.0    soldier  NNS   O\n",
       "26        2.0       kill  VBN   O\n",
       "27        2.0         in   IN   O\n",
       "28        2.0        the   DT   O\n",
       "29        2.0   conflict   NN   O\n",
       "30        2.0       join  VBD   O\n",
       "31        2.0        the   DT   O\n",
       "32        2.0  protester  NNS   O\n",
       "33        2.0        who   WP   O\n",
       "34        2.0      carry  VBD   O\n",
       "35        2.0     banner  NNS   O\n",
       "36        2.0       with   IN   O\n",
       "37        2.0       such   JJ   O\n",
       "38        2.0     slogan  NNS   O\n",
       "39        2.0         as   IN   O"
      ],
      "text/html": "<div>\n<style scoped>\n    .dataframe tbody tr th:only-of-type {\n        vertical-align: middle;\n    }\n\n    .dataframe tbody tr th {\n        vertical-align: top;\n    }\n\n    .dataframe thead th {\n        text-align: right;\n    }\n</style>\n<table border=\"1\" class=\"dataframe\">\n  <thead>\n    <tr style=\"text-align: right;\">\n      <th></th>\n      <th>Sentence #</th>\n      <th>Word</th>\n      <th>POS</th>\n      <th>Tag</th>\n    </tr>\n  </thead>\n  <tbody>\n    <tr>\n      <th>20</th>\n      <td>1.0</td>\n      <td>from</td>\n      <td>IN</td>\n      <td>O</td>\n    </tr>\n    <tr>\n      <th>21</th>\n      <td>1.0</td>\n      <td>that</td>\n      <td>DT</td>\n      <td>O</td>\n    </tr>\n    <tr>\n      <th>22</th>\n      <td>1.0</td>\n      <td>country</td>\n      <td>NN</td>\n      <td>O</td>\n    </tr>\n    <tr>\n      <th>23</th>\n      <td>2.0</td>\n      <td>families</td>\n      <td>NNS</td>\n      <td>O</td>\n    </tr>\n    <tr>\n      <th>24</th>\n      <td>2.0</td>\n      <td>of</td>\n      <td>IN</td>\n      <td>O</td>\n    </tr>\n    <tr>\n      <th>25</th>\n      <td>2.0</td>\n      <td>soldier</td>\n      <td>NNS</td>\n      <td>O</td>\n    </tr>\n    <tr>\n      <th>26</th>\n      <td>2.0</td>\n      <td>kill</td>\n      <td>VBN</td>\n      <td>O</td>\n    </tr>\n    <tr>\n      <th>27</th>\n      <td>2.0</td>\n      <td>in</td>\n      <td>IN</td>\n      <td>O</td>\n    </tr>\n    <tr>\n      <th>28</th>\n      <td>2.0</td>\n      <td>the</td>\n      <td>DT</td>\n      <td>O</td>\n    </tr>\n    <tr>\n      <th>29</th>\n      <td>2.0</td>\n      <td>conflict</td>\n      <td>NN</td>\n      <td>O</td>\n    </tr>\n    <tr>\n      <th>30</th>\n      <td>2.0</td>\n      <td>join</td>\n      <td>VBD</td>\n      <td>O</td>\n    </tr>\n    <tr>\n      <th>31</th>\n      <td>2.0</td>\n      <td>the</td>\n      <td>DT</td>\n      <td>O</td>\n    </tr>\n    <tr>\n      <th>32</th>\n      <td>2.0</td>\n      <td>protester</td>\n      <td>NNS</td>\n      <td>O</td>\n    </tr>\n    <tr>\n      <th>33</th>\n      <td>2.0</td>\n      <td>who</td>\n      <td>WP</td>\n      <td>O</td>\n    </tr>\n    <tr>\n      <th>34</th>\n      <td>2.0</td>\n      <td>carry</td>\n      <td>VBD</td>\n      <td>O</td>\n    </tr>\n    <tr>\n      <th>35</th>\n      <td>2.0</td>\n      <td>banner</td>\n      <td>NNS</td>\n      <td>O</td>\n    </tr>\n    <tr>\n      <th>36</th>\n      <td>2.0</td>\n      <td>with</td>\n      <td>IN</td>\n      <td>O</td>\n    </tr>\n    <tr>\n      <th>37</th>\n      <td>2.0</td>\n      <td>such</td>\n      <td>JJ</td>\n      <td>O</td>\n    </tr>\n    <tr>\n      <th>38</th>\n      <td>2.0</td>\n      <td>slogan</td>\n      <td>NNS</td>\n      <td>O</td>\n    </tr>\n    <tr>\n      <th>39</th>\n      <td>2.0</td>\n      <td>as</td>\n      <td>IN</td>\n      <td>O</td>\n    </tr>\n  </tbody>\n</table>\n</div>"
     },
     "metadata": {},
     "execution_count": 3
    }
   ],
   "source": [
    "inputdata = a2.preprocess(gmbfile)\n",
    "gmbfile.close()\n",
    "inputdata[20:40]"
   ]
  },
  {
   "cell_type": "markdown",
   "metadata": {},
   "source": [
    "## Part 2 - Creating instances (7 points)"
   ]
  },
  {
   "cell_type": "markdown",
   "metadata": {},
   "source": [
    "Do step 2 above.  You will create a collection of Instance objects.  Remember to consider the case where the NE is at the beginning of a sentence or at the end, or close to either (you can create a special start token for that).  You can also start counting from before the `B` end of the NE mention and after the last `I` of the NE mention. That means that the instances should include things before and after the named entity mention, but not the named entity text itself."
   ]
  },
  {
   "cell_type": "code",
   "execution_count": 4,
   "metadata": {},
   "outputs": [],
   "source": [
    "instances = a2.create_instances(inputdata)"
   ]
  },
  {
   "cell_type": "code",
   "execution_count": 5,
   "metadata": {},
   "outputs": [
    {
     "output_type": "execute_result",
     "data": {
      "text/plain": [
       "[Class: gpe Features: ['<S1>', '<S2>', '<S3>', '<S4>', '<S5>', 'this', 'week', 'restart', 'part', 'of'],\n",
       " Class: geo Features: ['the', 'conversion', 'process', 'at', 'its', 'nuclear', 'plant', '<E5>', '<E4>', '<E3>'],\n",
       " Class: gpe Features: ['<S1>', '<S2>', '<S3>', '<S4>', '<S5>', 'official', 'say', 'they', 'expect', 'to'],\n",
       " Class: tim Features: ['sensitive', 'part', 'of', 'the', 'plant', 'after', 'an', 'surveillance', 'system', 'begin'],\n",
       " Class: org Features: ['of', 'the', 'plant', 'after', 'an', 'surveillance', 'system', 'begin', 'function', '<E5>'],\n",
       " Class: org Features: ['<S2>', '<S3>', '<S4>', '<S5>', 'the', 'with', 'backing', 'have', 'threaten', 'to'],\n",
       " Class: gpe Features: ['backing', 'have', 'threaten', 'to', 'refer', 'to', 'the', 'which', 'could', 'impose'],\n",
       " Class: gpe Features: ['impose', 'sanction', 'if', 'it', 'find', 'have', 'violate', 'the', 'treaty', '<E5>'],\n",
       " Class: art Features: ['it', 'find', 'have', 'violate', 'the', 'treaty', '<E5>', '<E4>', '<E3>', '<E2>'],\n",
       " Class: gpe Features: ['<S1>', '<S2>', '<S3>', '<S4>', '<S5>', 'new', 'say', 'that', 'incentive', 'aim'],\n",
       " Class: per Features: ['<S2>', '<S3>', '<S4>', '<S5>', 'new', 'say', 'that', 'incentive', 'aim', 'at'],\n",
       " Class: tim Features: ['<S3>', '<S4>', '<S5>', 'new', 'say', 'that', 'incentive', 'aim', 'at', 'persuade'],\n",
       " Class: gpe Features: ['<S4>', '<S5>', 'new', 'say', 'that', 'incentive', 'aim', 'at', 'persuade', 'to'],\n",
       " Class: gpe Features: ['that', 'incentive', 'aim', 'at', 'persuade', 'to', 'end', 'its', 'nuclear', 'fuel'],\n",
       " Class: gpe Features: ['be', 'an', 'insult', 'to', 'the', 'nation', '<E5>', '<E4>', '<E3>', '<E2>'],\n",
       " Class: gpe Features: ['<S2>', '<S3>', '<S4>', '<S5>', 'two', 'and', 'four', 'oil', 'worker', 'be'],\n",
       " Class: gpe Features: ['<S4>', '<S5>', 'two', 'and', 'four', 'oil', 'worker', 'be', 'kidnap', 'by'],\n",
       " Class: geo Features: ['raid', 'on', 'a', 'boat', 'in', 'southern', 'region', '<E5>', '<E4>', '<E3>'],\n",
       " Class: geo Features: ['on', 'a', 'boat', 'in', 'southern', 'region', '<E5>', '<E4>', '<E3>', '<E2>'],\n",
       " Class: gpe Features: ['<S5>', 'an', 'official', 'with', 'the', 'firm', 'say', 'the', 'gunman', 'stop']]"
      ]
     },
     "metadata": {},
     "execution_count": 5
    }
   ],
   "source": [
    "instances[20:40]"
   ]
  },
  {
   "cell_type": "markdown",
   "metadata": {},
   "source": [
    "## Part 3 - Creating the table and splitting (10 points)\n",
    "\n",
    "Here you're going to write the functions that create a data table with \"document\" vectors representing each instance and split the table into training and testing sets and random with an 80%/20% train/test split."
   ]
  },
  {
   "cell_type": "code",
   "execution_count": 6,
   "metadata": {},
   "outputs": [
    {
     "output_type": "execute_result",
     "data": {
      "text/plain": [
       "   class_label         0         1         2         3         4         5  \\\n",
       "20         gpe  1.291311 -1.395655 -0.842288 -0.204513 -0.320744  0.825330   \n",
       "21         geo  1.252882  1.062832 -0.100958 -0.661689 -0.059914 -0.142298   \n",
       "22         gpe  1.396641 -1.627629 -0.947095 -0.086366  0.448235  0.122432   \n",
       "23         tim  0.794307  0.120203  0.876269 -0.324209 -0.208115  0.601217   \n",
       "24         org  1.035625  0.475962  0.630110 -0.408557 -0.177670  0.581814   \n",
       "25         org  1.802081 -1.336901 -0.148628 -0.392049  0.502681  0.002994   \n",
       "26         gpe  0.951219 -0.021211  0.799856 -0.136242  1.401605  0.096429   \n",
       "27         gpe  0.920474  0.294226  0.403068 -0.413949  0.032640 -0.141943   \n",
       "28         art  1.497734  1.248735 -0.365612 -0.739886  0.007540 -0.157804   \n",
       "29         gpe  1.267708 -1.640130 -0.998705 -0.180379 -0.260564  0.024827   \n",
       "30         per  1.187228 -1.458618 -0.814151 -0.109814 -0.224176 -0.003752   \n",
       "31         tim  1.008960 -1.187407 -0.595585 -0.026225 -0.154632 -0.028727   \n",
       "32         gpe  0.931947 -0.855230 -0.283907  0.140919  0.617233  0.073206   \n",
       "33         gpe  0.233067 -0.007587  0.095072  0.160844  0.739223  0.117264   \n",
       "34         gpe  1.700525  1.308652 -0.238225 -0.474007  0.971728 -0.279598   \n",
       "35         gpe  1.294059 -1.314969 -0.784313  0.160067  0.475079 -0.520822   \n",
       "36         gpe  0.925719 -0.709649 -0.317390  0.319884  0.645253 -0.572811   \n",
       "37         geo  1.162114  1.179741 -0.635236  0.841901 -0.182886  0.283934   \n",
       "38         geo  1.327270  1.463167 -0.879177  0.735502 -0.196472  0.271244   \n",
       "39         gpe  1.623301 -0.441256  1.170154 -0.714764 -0.245804 -0.410674   \n",
       "\n",
       "           6         7         8  ...       290       291       292       293  \\\n",
       "20  0.324720  0.305276 -0.655858  ... -0.028828  0.040447 -0.022867  0.007758   \n",
       "21 -0.116525 -0.095413  0.229158  ...  0.015232  0.036491 -0.009808 -0.011257   \n",
       "22 -0.518810 -0.089908 -0.417823  ... -0.001076 -0.043413  0.004238 -0.006224   \n",
       "23  0.209155  0.243444 -0.239391  ...  0.028134 -0.003874  0.049644 -0.012035   \n",
       "24  0.216845  0.226088 -0.209471  ...  0.031337 -0.026504  0.050084 -0.005293   \n",
       "25 -0.671331 -0.348951 -0.499199  ... -0.007009 -0.003595  0.004889 -0.044761   \n",
       "26 -1.159761 -0.405659 -0.670479  ...  0.018888  0.091334 -0.016006 -0.018877   \n",
       "27 -0.128251 -0.171172  0.103726  ...  0.057286  0.051908 -0.166296  0.078878   \n",
       "28 -0.172665 -0.145901  0.224588  ...  0.011219  0.023124 -0.044994  0.039841   \n",
       "29 -0.030219  0.020430 -0.037794  ...  0.001542  0.024303  0.043314  0.031287   \n",
       "30 -0.040935 -0.015460  0.085600  ... -0.001601  0.003849  0.051072  0.026678   \n",
       "31 -0.041607 -0.023492  0.163655  ...  0.012306 -0.003040  0.052228  0.042615   \n",
       "32 -0.555688 -0.124706 -0.121742  ...  0.005432  0.001950  0.052339  0.042340   \n",
       "33 -0.538092 -0.109285 -0.312856  ...  0.031112 -0.116332 -0.026156 -0.020584   \n",
       "34 -0.542811  0.605855  0.211076  ... -0.030720 -0.021782  0.008117 -0.065965   \n",
       "35  0.858135  0.431248 -0.142354  ... -0.034391  0.003539 -0.055623  0.013842   \n",
       "36  0.864308  0.455012  0.037873  ... -0.056833  0.051381 -0.048959  0.038146   \n",
       "37 -0.125429 -0.400510  0.522035  ...  0.008291  0.034059 -0.114830  0.010766   \n",
       "38 -0.152699 -0.393267  0.576086  ... -0.010680  0.013496 -0.051903 -0.006378   \n",
       "39 -0.240894 -0.198591  0.490781  ... -0.016743  0.097622 -0.117302  0.009629   \n",
       "\n",
       "         294       295       296       297       298       299  \n",
       "20 -0.001432  0.050254 -0.033366 -0.030433 -0.024755 -0.055527  \n",
       "21 -0.009423  0.027827  0.014583 -0.036247  0.021659 -0.030257  \n",
       "22 -0.003356  0.049970  0.009859  0.006272  0.014570 -0.022867  \n",
       "23  0.029009  0.029719 -0.072605 -0.017597 -0.075692 -0.035778  \n",
       "24  0.050210  0.004857 -0.052155  0.002646 -0.058958 -0.015115  \n",
       "25 -0.020777  0.013063  0.022696  0.019419  0.007421 -0.028972  \n",
       "26 -0.036288  0.034650  0.031553  0.047860  0.013174 -0.016222  \n",
       "27 -0.051745  0.082832  0.063136 -0.020598  0.024595 -0.067378  \n",
       "28 -0.025543  0.032277 -0.003386  0.012816  0.007328  0.010251  \n",
       "29 -0.024966  0.094510 -0.018680 -0.013891  0.125081 -0.009433  \n",
       "30 -0.029655  0.090630 -0.014207 -0.016196  0.130852 -0.020833  \n",
       "31 -0.020566  0.094971 -0.016219 -0.016806  0.162360 -0.022486  \n",
       "32 -0.025840  0.090199 -0.014076 -0.001601  0.167218 -0.018614  \n",
       "33  0.130430  0.183129  0.014514 -0.000492  0.287440 -0.005472  \n",
       "34  0.098515  0.000606 -0.054525 -0.009319  0.040360  0.008554  \n",
       "35 -0.125745  0.032797  0.011657 -0.017573 -0.057736  0.055076  \n",
       "36 -0.113365  0.066001  0.021734  0.014174 -0.064080  0.070687  \n",
       "37  0.022189 -0.004664  0.068216 -0.020918  0.073363  0.027977  \n",
       "38  0.002074  0.013729  0.049265  0.013489  0.030294  0.013469  \n",
       "39  0.029866  0.000271  0.112234 -0.101575 -0.051196  0.038311  \n",
       "\n",
       "[20 rows x 301 columns]"
      ],
      "text/html": "<div>\n<style scoped>\n    .dataframe tbody tr th:only-of-type {\n        vertical-align: middle;\n    }\n\n    .dataframe tbody tr th {\n        vertical-align: top;\n    }\n\n    .dataframe thead th {\n        text-align: right;\n    }\n</style>\n<table border=\"1\" class=\"dataframe\">\n  <thead>\n    <tr style=\"text-align: right;\">\n      <th></th>\n      <th>class_label</th>\n      <th>0</th>\n      <th>1</th>\n      <th>2</th>\n      <th>3</th>\n      <th>4</th>\n      <th>5</th>\n      <th>6</th>\n      <th>7</th>\n      <th>8</th>\n      <th>...</th>\n      <th>290</th>\n      <th>291</th>\n      <th>292</th>\n      <th>293</th>\n      <th>294</th>\n      <th>295</th>\n      <th>296</th>\n      <th>297</th>\n      <th>298</th>\n      <th>299</th>\n    </tr>\n  </thead>\n  <tbody>\n    <tr>\n      <th>20</th>\n      <td>gpe</td>\n      <td>1.291311</td>\n      <td>-1.395655</td>\n      <td>-0.842288</td>\n      <td>-0.204513</td>\n      <td>-0.320744</td>\n      <td>0.825330</td>\n      <td>0.324720</td>\n      <td>0.305276</td>\n      <td>-0.655858</td>\n      <td>...</td>\n      <td>-0.028828</td>\n      <td>0.040447</td>\n      <td>-0.022867</td>\n      <td>0.007758</td>\n      <td>-0.001432</td>\n      <td>0.050254</td>\n      <td>-0.033366</td>\n      <td>-0.030433</td>\n      <td>-0.024755</td>\n      <td>-0.055527</td>\n    </tr>\n    <tr>\n      <th>21</th>\n      <td>geo</td>\n      <td>1.252882</td>\n      <td>1.062832</td>\n      <td>-0.100958</td>\n      <td>-0.661689</td>\n      <td>-0.059914</td>\n      <td>-0.142298</td>\n      <td>-0.116525</td>\n      <td>-0.095413</td>\n      <td>0.229158</td>\n      <td>...</td>\n      <td>0.015232</td>\n      <td>0.036491</td>\n      <td>-0.009808</td>\n      <td>-0.011257</td>\n      <td>-0.009423</td>\n      <td>0.027827</td>\n      <td>0.014583</td>\n      <td>-0.036247</td>\n      <td>0.021659</td>\n      <td>-0.030257</td>\n    </tr>\n    <tr>\n      <th>22</th>\n      <td>gpe</td>\n      <td>1.396641</td>\n      <td>-1.627629</td>\n      <td>-0.947095</td>\n      <td>-0.086366</td>\n      <td>0.448235</td>\n      <td>0.122432</td>\n      <td>-0.518810</td>\n      <td>-0.089908</td>\n      <td>-0.417823</td>\n      <td>...</td>\n      <td>-0.001076</td>\n      <td>-0.043413</td>\n      <td>0.004238</td>\n      <td>-0.006224</td>\n      <td>-0.003356</td>\n      <td>0.049970</td>\n      <td>0.009859</td>\n      <td>0.006272</td>\n      <td>0.014570</td>\n      <td>-0.022867</td>\n    </tr>\n    <tr>\n      <th>23</th>\n      <td>tim</td>\n      <td>0.794307</td>\n      <td>0.120203</td>\n      <td>0.876269</td>\n      <td>-0.324209</td>\n      <td>-0.208115</td>\n      <td>0.601217</td>\n      <td>0.209155</td>\n      <td>0.243444</td>\n      <td>-0.239391</td>\n      <td>...</td>\n      <td>0.028134</td>\n      <td>-0.003874</td>\n      <td>0.049644</td>\n      <td>-0.012035</td>\n      <td>0.029009</td>\n      <td>0.029719</td>\n      <td>-0.072605</td>\n      <td>-0.017597</td>\n      <td>-0.075692</td>\n      <td>-0.035778</td>\n    </tr>\n    <tr>\n      <th>24</th>\n      <td>org</td>\n      <td>1.035625</td>\n      <td>0.475962</td>\n      <td>0.630110</td>\n      <td>-0.408557</td>\n      <td>-0.177670</td>\n      <td>0.581814</td>\n      <td>0.216845</td>\n      <td>0.226088</td>\n      <td>-0.209471</td>\n      <td>...</td>\n      <td>0.031337</td>\n      <td>-0.026504</td>\n      <td>0.050084</td>\n      <td>-0.005293</td>\n      <td>0.050210</td>\n      <td>0.004857</td>\n      <td>-0.052155</td>\n      <td>0.002646</td>\n      <td>-0.058958</td>\n      <td>-0.015115</td>\n    </tr>\n    <tr>\n      <th>25</th>\n      <td>org</td>\n      <td>1.802081</td>\n      <td>-1.336901</td>\n      <td>-0.148628</td>\n      <td>-0.392049</td>\n      <td>0.502681</td>\n      <td>0.002994</td>\n      <td>-0.671331</td>\n      <td>-0.348951</td>\n      <td>-0.499199</td>\n      <td>...</td>\n      <td>-0.007009</td>\n      <td>-0.003595</td>\n      <td>0.004889</td>\n      <td>-0.044761</td>\n      <td>-0.020777</td>\n      <td>0.013063</td>\n      <td>0.022696</td>\n      <td>0.019419</td>\n      <td>0.007421</td>\n      <td>-0.028972</td>\n    </tr>\n    <tr>\n      <th>26</th>\n      <td>gpe</td>\n      <td>0.951219</td>\n      <td>-0.021211</td>\n      <td>0.799856</td>\n      <td>-0.136242</td>\n      <td>1.401605</td>\n      <td>0.096429</td>\n      <td>-1.159761</td>\n      <td>-0.405659</td>\n      <td>-0.670479</td>\n      <td>...</td>\n      <td>0.018888</td>\n      <td>0.091334</td>\n      <td>-0.016006</td>\n      <td>-0.018877</td>\n      <td>-0.036288</td>\n      <td>0.034650</td>\n      <td>0.031553</td>\n      <td>0.047860</td>\n      <td>0.013174</td>\n      <td>-0.016222</td>\n    </tr>\n    <tr>\n      <th>27</th>\n      <td>gpe</td>\n      <td>0.920474</td>\n      <td>0.294226</td>\n      <td>0.403068</td>\n      <td>-0.413949</td>\n      <td>0.032640</td>\n      <td>-0.141943</td>\n      <td>-0.128251</td>\n      <td>-0.171172</td>\n      <td>0.103726</td>\n      <td>...</td>\n      <td>0.057286</td>\n      <td>0.051908</td>\n      <td>-0.166296</td>\n      <td>0.078878</td>\n      <td>-0.051745</td>\n      <td>0.082832</td>\n      <td>0.063136</td>\n      <td>-0.020598</td>\n      <td>0.024595</td>\n      <td>-0.067378</td>\n    </tr>\n    <tr>\n      <th>28</th>\n      <td>art</td>\n      <td>1.497734</td>\n      <td>1.248735</td>\n      <td>-0.365612</td>\n      <td>-0.739886</td>\n      <td>0.007540</td>\n      <td>-0.157804</td>\n      <td>-0.172665</td>\n      <td>-0.145901</td>\n      <td>0.224588</td>\n      <td>...</td>\n      <td>0.011219</td>\n      <td>0.023124</td>\n      <td>-0.044994</td>\n      <td>0.039841</td>\n      <td>-0.025543</td>\n      <td>0.032277</td>\n      <td>-0.003386</td>\n      <td>0.012816</td>\n      <td>0.007328</td>\n      <td>0.010251</td>\n    </tr>\n    <tr>\n      <th>29</th>\n      <td>gpe</td>\n      <td>1.267708</td>\n      <td>-1.640130</td>\n      <td>-0.998705</td>\n      <td>-0.180379</td>\n      <td>-0.260564</td>\n      <td>0.024827</td>\n      <td>-0.030219</td>\n      <td>0.020430</td>\n      <td>-0.037794</td>\n      <td>...</td>\n      <td>0.001542</td>\n      <td>0.024303</td>\n      <td>0.043314</td>\n      <td>0.031287</td>\n      <td>-0.024966</td>\n      <td>0.094510</td>\n      <td>-0.018680</td>\n      <td>-0.013891</td>\n      <td>0.125081</td>\n      <td>-0.009433</td>\n    </tr>\n    <tr>\n      <th>30</th>\n      <td>per</td>\n      <td>1.187228</td>\n      <td>-1.458618</td>\n      <td>-0.814151</td>\n      <td>-0.109814</td>\n      <td>-0.224176</td>\n      <td>-0.003752</td>\n      <td>-0.040935</td>\n      <td>-0.015460</td>\n      <td>0.085600</td>\n      <td>...</td>\n      <td>-0.001601</td>\n      <td>0.003849</td>\n      <td>0.051072</td>\n      <td>0.026678</td>\n      <td>-0.029655</td>\n      <td>0.090630</td>\n      <td>-0.014207</td>\n      <td>-0.016196</td>\n      <td>0.130852</td>\n      <td>-0.020833</td>\n    </tr>\n    <tr>\n      <th>31</th>\n      <td>tim</td>\n      <td>1.008960</td>\n      <td>-1.187407</td>\n      <td>-0.595585</td>\n      <td>-0.026225</td>\n      <td>-0.154632</td>\n      <td>-0.028727</td>\n      <td>-0.041607</td>\n      <td>-0.023492</td>\n      <td>0.163655</td>\n      <td>...</td>\n      <td>0.012306</td>\n      <td>-0.003040</td>\n      <td>0.052228</td>\n      <td>0.042615</td>\n      <td>-0.020566</td>\n      <td>0.094971</td>\n      <td>-0.016219</td>\n      <td>-0.016806</td>\n      <td>0.162360</td>\n      <td>-0.022486</td>\n    </tr>\n    <tr>\n      <th>32</th>\n      <td>gpe</td>\n      <td>0.931947</td>\n      <td>-0.855230</td>\n      <td>-0.283907</td>\n      <td>0.140919</td>\n      <td>0.617233</td>\n      <td>0.073206</td>\n      <td>-0.555688</td>\n      <td>-0.124706</td>\n      <td>-0.121742</td>\n      <td>...</td>\n      <td>0.005432</td>\n      <td>0.001950</td>\n      <td>0.052339</td>\n      <td>0.042340</td>\n      <td>-0.025840</td>\n      <td>0.090199</td>\n      <td>-0.014076</td>\n      <td>-0.001601</td>\n      <td>0.167218</td>\n      <td>-0.018614</td>\n    </tr>\n    <tr>\n      <th>33</th>\n      <td>gpe</td>\n      <td>0.233067</td>\n      <td>-0.007587</td>\n      <td>0.095072</td>\n      <td>0.160844</td>\n      <td>0.739223</td>\n      <td>0.117264</td>\n      <td>-0.538092</td>\n      <td>-0.109285</td>\n      <td>-0.312856</td>\n      <td>...</td>\n      <td>0.031112</td>\n      <td>-0.116332</td>\n      <td>-0.026156</td>\n      <td>-0.020584</td>\n      <td>0.130430</td>\n      <td>0.183129</td>\n      <td>0.014514</td>\n      <td>-0.000492</td>\n      <td>0.287440</td>\n      <td>-0.005472</td>\n    </tr>\n    <tr>\n      <th>34</th>\n      <td>gpe</td>\n      <td>1.700525</td>\n      <td>1.308652</td>\n      <td>-0.238225</td>\n      <td>-0.474007</td>\n      <td>0.971728</td>\n      <td>-0.279598</td>\n      <td>-0.542811</td>\n      <td>0.605855</td>\n      <td>0.211076</td>\n      <td>...</td>\n      <td>-0.030720</td>\n      <td>-0.021782</td>\n      <td>0.008117</td>\n      <td>-0.065965</td>\n      <td>0.098515</td>\n      <td>0.000606</td>\n      <td>-0.054525</td>\n      <td>-0.009319</td>\n      <td>0.040360</td>\n      <td>0.008554</td>\n    </tr>\n    <tr>\n      <th>35</th>\n      <td>gpe</td>\n      <td>1.294059</td>\n      <td>-1.314969</td>\n      <td>-0.784313</td>\n      <td>0.160067</td>\n      <td>0.475079</td>\n      <td>-0.520822</td>\n      <td>0.858135</td>\n      <td>0.431248</td>\n      <td>-0.142354</td>\n      <td>...</td>\n      <td>-0.034391</td>\n      <td>0.003539</td>\n      <td>-0.055623</td>\n      <td>0.013842</td>\n      <td>-0.125745</td>\n      <td>0.032797</td>\n      <td>0.011657</td>\n      <td>-0.017573</td>\n      <td>-0.057736</td>\n      <td>0.055076</td>\n    </tr>\n    <tr>\n      <th>36</th>\n      <td>gpe</td>\n      <td>0.925719</td>\n      <td>-0.709649</td>\n      <td>-0.317390</td>\n      <td>0.319884</td>\n      <td>0.645253</td>\n      <td>-0.572811</td>\n      <td>0.864308</td>\n      <td>0.455012</td>\n      <td>0.037873</td>\n      <td>...</td>\n      <td>-0.056833</td>\n      <td>0.051381</td>\n      <td>-0.048959</td>\n      <td>0.038146</td>\n      <td>-0.113365</td>\n      <td>0.066001</td>\n      <td>0.021734</td>\n      <td>0.014174</td>\n      <td>-0.064080</td>\n      <td>0.070687</td>\n    </tr>\n    <tr>\n      <th>37</th>\n      <td>geo</td>\n      <td>1.162114</td>\n      <td>1.179741</td>\n      <td>-0.635236</td>\n      <td>0.841901</td>\n      <td>-0.182886</td>\n      <td>0.283934</td>\n      <td>-0.125429</td>\n      <td>-0.400510</td>\n      <td>0.522035</td>\n      <td>...</td>\n      <td>0.008291</td>\n      <td>0.034059</td>\n      <td>-0.114830</td>\n      <td>0.010766</td>\n      <td>0.022189</td>\n      <td>-0.004664</td>\n      <td>0.068216</td>\n      <td>-0.020918</td>\n      <td>0.073363</td>\n      <td>0.027977</td>\n    </tr>\n    <tr>\n      <th>38</th>\n      <td>geo</td>\n      <td>1.327270</td>\n      <td>1.463167</td>\n      <td>-0.879177</td>\n      <td>0.735502</td>\n      <td>-0.196472</td>\n      <td>0.271244</td>\n      <td>-0.152699</td>\n      <td>-0.393267</td>\n      <td>0.576086</td>\n      <td>...</td>\n      <td>-0.010680</td>\n      <td>0.013496</td>\n      <td>-0.051903</td>\n      <td>-0.006378</td>\n      <td>0.002074</td>\n      <td>0.013729</td>\n      <td>0.049265</td>\n      <td>0.013489</td>\n      <td>0.030294</td>\n      <td>0.013469</td>\n    </tr>\n    <tr>\n      <th>39</th>\n      <td>gpe</td>\n      <td>1.623301</td>\n      <td>-0.441256</td>\n      <td>1.170154</td>\n      <td>-0.714764</td>\n      <td>-0.245804</td>\n      <td>-0.410674</td>\n      <td>-0.240894</td>\n      <td>-0.198591</td>\n      <td>0.490781</td>\n      <td>...</td>\n      <td>-0.016743</td>\n      <td>0.097622</td>\n      <td>-0.117302</td>\n      <td>0.009629</td>\n      <td>0.029866</td>\n      <td>0.000271</td>\n      <td>0.112234</td>\n      <td>-0.101575</td>\n      <td>-0.051196</td>\n      <td>0.038311</td>\n    </tr>\n  </tbody>\n</table>\n<p>20 rows × 301 columns</p>\n</div>"
     },
     "metadata": {},
     "execution_count": 6
    }
   ],
   "source": [
    "bigdf = a2.create_table(instances)\n",
    "bigdf[20:40]"
   ]
  },
  {
   "cell_type": "code",
   "execution_count": 7,
   "metadata": {},
   "outputs": [
    {
     "output_type": "execute_result",
     "data": {
      "text/plain": [
       "(array([[ 1.64209376e+00, -5.03240934e-02, -1.36572016e+00, ...,\n",
       "         -4.41816463e-03, -2.87324694e-03,  9.20767793e-03],\n",
       "        [ 1.27552290e+00, -1.51929097e+00, -9.89196847e-01, ...,\n",
       "         -6.38495432e-03, -2.33466069e-03,  9.85476569e-03],\n",
       "        [ 3.62621698e-01,  1.04465035e-01,  1.28206254e-01, ...,\n",
       "         -1.46990334e-02, -4.20777171e-04,  1.46646805e-01],\n",
       "        ...,\n",
       "        [ 1.73496809e+00,  2.50131200e-01,  1.64837100e+00, ...,\n",
       "         -5.17855211e-02, -1.52513990e-02,  6.36453004e-02],\n",
       "        [ 1.26953522e+00,  1.52023079e-01,  8.61445730e-01, ...,\n",
       "          9.18349493e-02,  4.95490019e-02, -4.49497833e-02],\n",
       "        [ 1.03963213e+00, -4.61278242e-01,  5.20303269e-01, ...,\n",
       "          5.91326502e-02, -1.81634542e-01,  1.43552342e-01]]),\n",
       " 3954    per\n",
       " 1606    geo\n",
       " 2490    geo\n",
       " 2786    geo\n",
       " 854     gpe\n",
       "        ... \n",
       " 6227    tim\n",
       " 3680    tim\n",
       " 4580    tim\n",
       " 4348    geo\n",
       " 2384    org\n",
       " Name: class_label, Length: 5022, dtype: object,\n",
       " array([[ 2.29833242e-01,  6.08954413e-02,  6.48618195e-02, ...,\n",
       "          9.07736423e-02,  7.66964624e-02,  5.69964695e-02],\n",
       "        [ 1.76848326e+00,  3.94637529e-01,  1.80734821e+00, ...,\n",
       "         -1.01195655e-01, -7.97728581e-02, -1.35780881e-01],\n",
       "        [ 1.68423287e+00,  1.06512588e+00,  6.40604940e-01, ...,\n",
       "         -1.20544199e-01, -3.20462762e-02, -1.30156852e-01],\n",
       "        ...,\n",
       "        [ 1.60124599e+00,  1.82856395e+00, -6.99216577e-01, ...,\n",
       "          2.69215850e-03,  7.43279348e-03, -3.94703769e-04],\n",
       "        [ 1.21022427e+00,  1.60801970e+00, -9.70298273e-01, ...,\n",
       "          1.35736696e-02, -1.19028316e-02,  1.69919108e-02],\n",
       "        [ 9.97711270e-01,  1.26137434e+00, -9.75538301e-01, ...,\n",
       "          1.42765034e-03, -1.56670363e-02, -8.49343264e-03]]),\n",
       " 3       per\n",
       " 5       geo\n",
       " 7       gpe\n",
       " 16      org\n",
       " 17      geo\n",
       "        ... \n",
       " 6268    gpe\n",
       " 6270    gpe\n",
       " 6275    geo\n",
       " 6276    per\n",
       " 6277    tim\n",
       " Name: class_label, Length: 1256, dtype: object)"
      ]
     },
     "metadata": {},
     "execution_count": 7
    }
   ],
   "source": [
    "train_X, train_y, test_X, test_y = a2.ttsplit(bigdf)\n",
    "\n",
    "# X and y mean feature matrix and class respectively.\n",
    "train_X, train_y, test_X, test_y"
   ]
  },
  {
   "cell_type": "code",
   "execution_count": 8,
   "metadata": {},
   "outputs": [
    {
     "output_type": "execute_result",
     "data": {
      "text/plain": [
       "0.20006371455877667"
      ]
     },
     "metadata": {},
     "execution_count": 8
    }
   ],
   "source": [
    "len(test_y) / (len(test_y) + len(train_y))"
   ]
  },
  {
   "cell_type": "code",
   "execution_count": 9,
   "metadata": {},
   "outputs": [
    {
     "output_type": "execute_result",
     "data": {
      "text/plain": [
       "0.20006371455877667"
      ]
     },
     "metadata": {},
     "execution_count": 9
    }
   ],
   "source": [
    "len(test_X) / (len(test_X) + len(train_X))"
   ]
  },
  {
   "cell_type": "code",
   "execution_count": 10,
   "metadata": {},
   "outputs": [
    {
     "output_type": "execute_result",
     "data": {
      "text/plain": [
       "'per'"
      ]
     },
     "metadata": {},
     "execution_count": 10
    }
   ],
   "source": [
    "test_y.iloc[0]"
   ]
  },
  {
   "cell_type": "markdown",
   "metadata": {},
   "source": [
    "## Part 4 - Training the model (0 points)"
   ]
  },
  {
   "cell_type": "markdown",
   "metadata": {},
   "source": [
    "This part you won't do yourself."
   ]
  },
  {
   "cell_type": "code",
   "execution_count": 11,
   "metadata": {},
   "outputs": [],
   "source": [
    "model = LinearSVC()\n",
    "model.fit(train_X, train_y)\n",
    "train_predictions = model.predict(train_X)\n",
    "test_predictions = model.predict(test_X)"
   ]
  },
  {
   "cell_type": "code",
   "execution_count": 12,
   "metadata": {},
   "outputs": [
    {
     "output_type": "execute_result",
     "data": {
      "text/plain": [
       "array(['tim', 'per', 'geo', ..., 'geo', 'geo', 'org'], dtype=object)"
      ]
     },
     "metadata": {},
     "execution_count": 12
    }
   ],
   "source": [
    "train_predictions"
   ]
  },
  {
   "cell_type": "code",
   "execution_count": 13,
   "metadata": {},
   "outputs": [
    {
     "output_type": "execute_result",
     "data": {
      "text/plain": [
       "3954    per\n",
       "1606    geo\n",
       "2490    geo\n",
       "2786    geo\n",
       "854     gpe\n",
       "       ... \n",
       "6227    tim\n",
       "3680    tim\n",
       "4580    tim\n",
       "4348    geo\n",
       "2384    org\n",
       "Name: class_label, Length: 5022, dtype: object"
      ]
     },
     "metadata": {},
     "execution_count": 13
    }
   ],
   "source": [
    "train_y"
   ]
  },
  {
   "cell_type": "code",
   "execution_count": 14,
   "metadata": {},
   "outputs": [
    {
     "output_type": "execute_result",
     "data": {
      "text/plain": [
       "array(['gpe', 'org', 'org', ..., 'geo', 'geo', 'tim'], dtype=object)"
      ]
     },
     "metadata": {},
     "execution_count": 14
    }
   ],
   "source": [
    "test_predictions"
   ]
  },
  {
   "cell_type": "code",
   "execution_count": 15,
   "metadata": {},
   "outputs": [
    {
     "output_type": "execute_result",
     "data": {
      "text/plain": [
       "3       per\n",
       "5       geo\n",
       "7       gpe\n",
       "16      org\n",
       "17      geo\n",
       "       ... \n",
       "6268    gpe\n",
       "6270    gpe\n",
       "6275    geo\n",
       "6276    per\n",
       "6277    tim\n",
       "Name: class_label, Length: 1256, dtype: object"
      ]
     },
     "metadata": {},
     "execution_count": 15
    }
   ],
   "source": [
    "test_y"
   ]
  },
  {
   "cell_type": "markdown",
   "metadata": {},
   "source": [
    "## Part 5 - Evaluation (5 points)"
   ]
  },
  {
   "cell_type": "markdown",
   "metadata": {},
   "source": [
    "Investigate for yourself what a \"confusion matrix\".  Then implement a function that takes the data and produces a confusion matrix in any readable form that allows us to compare the performance of the model by class.  "
   ]
  },
  {
   "cell_type": "code",
   "execution_count": 16,
   "metadata": {},
   "outputs": [
    {
     "output_type": "execute_result",
     "data": {
      "text/plain": [
       "     eve  nat  geo  per  org  tim  gpe  art\n",
       "eve    0    0    8    1    0    4    1    0\n",
       "nat    0    2    2    0    0    0    0    0\n",
       "geo    2    0  211   36   36   44   36    4\n",
       "per    1    0   45   62   21   27   24    2\n",
       "org    0    0   57   27   81   31   41    2\n",
       "tim    0    3   92   14   23   72   18    1\n",
       "gpe    0    0   54   38   29   11   83    1\n",
       "art    0    0    2    1    2    2    0    2"
      ],
      "text/html": "<div>\n<style scoped>\n    .dataframe tbody tr th:only-of-type {\n        vertical-align: middle;\n    }\n\n    .dataframe tbody tr th {\n        vertical-align: top;\n    }\n\n    .dataframe thead th {\n        text-align: right;\n    }\n</style>\n<table border=\"1\" class=\"dataframe\">\n  <thead>\n    <tr style=\"text-align: right;\">\n      <th></th>\n      <th>eve</th>\n      <th>nat</th>\n      <th>geo</th>\n      <th>per</th>\n      <th>org</th>\n      <th>tim</th>\n      <th>gpe</th>\n      <th>art</th>\n    </tr>\n  </thead>\n  <tbody>\n    <tr>\n      <th>eve</th>\n      <td>0</td>\n      <td>0</td>\n      <td>8</td>\n      <td>1</td>\n      <td>0</td>\n      <td>4</td>\n      <td>1</td>\n      <td>0</td>\n    </tr>\n    <tr>\n      <th>nat</th>\n      <td>0</td>\n      <td>2</td>\n      <td>2</td>\n      <td>0</td>\n      <td>0</td>\n      <td>0</td>\n      <td>0</td>\n      <td>0</td>\n    </tr>\n    <tr>\n      <th>geo</th>\n      <td>2</td>\n      <td>0</td>\n      <td>211</td>\n      <td>36</td>\n      <td>36</td>\n      <td>44</td>\n      <td>36</td>\n      <td>4</td>\n    </tr>\n    <tr>\n      <th>per</th>\n      <td>1</td>\n      <td>0</td>\n      <td>45</td>\n      <td>62</td>\n      <td>21</td>\n      <td>27</td>\n      <td>24</td>\n      <td>2</td>\n    </tr>\n    <tr>\n      <th>org</th>\n      <td>0</td>\n      <td>0</td>\n      <td>57</td>\n      <td>27</td>\n      <td>81</td>\n      <td>31</td>\n      <td>41</td>\n      <td>2</td>\n    </tr>\n    <tr>\n      <th>tim</th>\n      <td>0</td>\n      <td>3</td>\n      <td>92</td>\n      <td>14</td>\n      <td>23</td>\n      <td>72</td>\n      <td>18</td>\n      <td>1</td>\n    </tr>\n    <tr>\n      <th>gpe</th>\n      <td>0</td>\n      <td>0</td>\n      <td>54</td>\n      <td>38</td>\n      <td>29</td>\n      <td>11</td>\n      <td>83</td>\n      <td>1</td>\n    </tr>\n    <tr>\n      <th>art</th>\n      <td>0</td>\n      <td>0</td>\n      <td>2</td>\n      <td>1</td>\n      <td>2</td>\n      <td>2</td>\n      <td>0</td>\n      <td>2</td>\n    </tr>\n  </tbody>\n</table>\n</div>"
     },
     "metadata": {},
     "execution_count": 16
    }
   ],
   "source": [
    "a2.confusion_matrix(test_y, test_predictions)"
   ]
  },
  {
   "cell_type": "code",
   "execution_count": 17,
   "metadata": {},
   "outputs": [
    {
     "output_type": "execute_result",
     "data": {
      "text/plain": [
       "     eve  nat   geo  per  org  tim  gpe  art\n",
       "eve   12    0    13    0    1    4    0    0\n",
       "nat    0   10     3    0    0    1    1    0\n",
       "geo    1    0  1105   77   99  129  128    2\n",
       "per    0    0   157  313   71   62   97    1\n",
       "org    0    0   232   91  313   86  107    0\n",
       "tim    0    0   284   52   75  421   86    0\n",
       "gpe    0    0   221   94   97   85  450    1\n",
       "art    0    0     6    2    4    8    1   19"
      ],
      "text/html": "<div>\n<style scoped>\n    .dataframe tbody tr th:only-of-type {\n        vertical-align: middle;\n    }\n\n    .dataframe tbody tr th {\n        vertical-align: top;\n    }\n\n    .dataframe thead th {\n        text-align: right;\n    }\n</style>\n<table border=\"1\" class=\"dataframe\">\n  <thead>\n    <tr style=\"text-align: right;\">\n      <th></th>\n      <th>eve</th>\n      <th>nat</th>\n      <th>geo</th>\n      <th>per</th>\n      <th>org</th>\n      <th>tim</th>\n      <th>gpe</th>\n      <th>art</th>\n    </tr>\n  </thead>\n  <tbody>\n    <tr>\n      <th>eve</th>\n      <td>12</td>\n      <td>0</td>\n      <td>13</td>\n      <td>0</td>\n      <td>1</td>\n      <td>4</td>\n      <td>0</td>\n      <td>0</td>\n    </tr>\n    <tr>\n      <th>nat</th>\n      <td>0</td>\n      <td>10</td>\n      <td>3</td>\n      <td>0</td>\n      <td>0</td>\n      <td>1</td>\n      <td>1</td>\n      <td>0</td>\n    </tr>\n    <tr>\n      <th>geo</th>\n      <td>1</td>\n      <td>0</td>\n      <td>1105</td>\n      <td>77</td>\n      <td>99</td>\n      <td>129</td>\n      <td>128</td>\n      <td>2</td>\n    </tr>\n    <tr>\n      <th>per</th>\n      <td>0</td>\n      <td>0</td>\n      <td>157</td>\n      <td>313</td>\n      <td>71</td>\n      <td>62</td>\n      <td>97</td>\n      <td>1</td>\n    </tr>\n    <tr>\n      <th>org</th>\n      <td>0</td>\n      <td>0</td>\n      <td>232</td>\n      <td>91</td>\n      <td>313</td>\n      <td>86</td>\n      <td>107</td>\n      <td>0</td>\n    </tr>\n    <tr>\n      <th>tim</th>\n      <td>0</td>\n      <td>0</td>\n      <td>284</td>\n      <td>52</td>\n      <td>75</td>\n      <td>421</td>\n      <td>86</td>\n      <td>0</td>\n    </tr>\n    <tr>\n      <th>gpe</th>\n      <td>0</td>\n      <td>0</td>\n      <td>221</td>\n      <td>94</td>\n      <td>97</td>\n      <td>85</td>\n      <td>450</td>\n      <td>1</td>\n    </tr>\n    <tr>\n      <th>art</th>\n      <td>0</td>\n      <td>0</td>\n      <td>6</td>\n      <td>2</td>\n      <td>4</td>\n      <td>8</td>\n      <td>1</td>\n      <td>19</td>\n    </tr>\n  </tbody>\n</table>\n</div>"
     },
     "metadata": {},
     "execution_count": 17
    }
   ],
   "source": [
    "a2.confusion_matrix(train_y, train_predictions)"
   ]
  },
  {
   "cell_type": "markdown",
   "metadata": {},
   "source": [
    "Examine the matrix and describe your observations in README.md.  In particular, what do you notice about the predictions on the training data compared to those on the test data."
   ]
  },
  {
   "cell_type": "markdown",
   "metadata": {},
   "source": [
    "## Bonus Part A - Error analysis (2 points)"
   ]
  },
  {
   "cell_type": "markdown",
   "metadata": {},
   "source": [
    "Look at the weakest-performing classes in the confusion matrix (or any, if they all perform poorly to the same extent).  Find some examples in the test data on which the classifier classified incorrectly for those classes.  What do you think is the reason why those are hard?  Consider linguistic factors and statistical factors, if applicable.  Write your answer in README.md."
   ]
  },
  {
   "cell_type": "markdown",
   "metadata": {},
   "source": [
    "## Bonus Part B - Expanding the feature space (7 points)"
   ]
  },
  {
   "cell_type": "markdown",
   "metadata": {},
   "source": [
    "Run the entire process above, but incorporate part-of-speech tag information into the feature vectors.  It's your choice as to how to do this, but document it in README.md.  Your new process should run from the single call below:"
   ]
  },
  {
   "cell_type": "code",
   "execution_count": 18,
   "metadata": {},
   "outputs": [],
   "source": [
    "a2.bonusb('/scratch/lt2222-v21-resources/GMB_dataset.txt')"
   ]
  }
 ],
 "metadata": {
  "kernelspec": {
   "display_name": "Python 3",
   "language": "python",
   "name": "python3"
  },
  "language_info": {
   "codemirror_mode": {
    "name": "ipython",
    "version": 3
   },
   "file_extension": ".py",
   "mimetype": "text/x-python",
   "name": "python",
   "nbconvert_exporter": "python",
   "pygments_lexer": "ipython3",
   "version": "3.7.4-final"
  }
 },
 "nbformat": 4,
 "nbformat_minor": 2
}